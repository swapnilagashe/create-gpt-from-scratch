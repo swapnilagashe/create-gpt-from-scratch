{
 "cells": [
  {
   "cell_type": "code",
   "execution_count": 1,
   "metadata": {},
   "outputs": [],
   "source": [
    "import torch\n",
    "import torch.nn.functional as F\n",
    "import matplotlib.pyplot as plt # for making figures\n",
    "%matplotlib inline"
   ]
  },
  {
   "cell_type": "code",
   "execution_count": 2,
   "metadata": {},
   "outputs": [
    {
     "name": "stdout",
     "output_type": "stream",
     "text": [
      "32033\n"
     ]
    },
    {
     "data": {
      "text/plain": [
       "['emma', 'olivia', 'ava', 'isabella', 'sophia', 'charlotte', 'mia', 'amelia']"
      ]
     },
     "execution_count": 2,
     "metadata": {},
     "output_type": "execute_result"
    }
   ],
   "source": [
    "# read in all the words\n",
    "words = open('names.txt', 'r').read().splitlines()\n",
    "print(len(words))\n",
    "words[:8]"
   ]
  },
  {
   "cell_type": "code",
   "execution_count": 3,
   "metadata": {},
   "outputs": [
    {
     "name": "stdout",
     "output_type": "stream",
     "text": [
      "{1: 'a', 2: 'b', 3: 'c', 4: 'd', 5: 'e', 6: 'f', 7: 'g', 8: 'h', 9: 'i', 10: 'j', 11: 'k', 12: 'l', 13: 'm', 14: 'n', 15: 'o', 16: 'p', 17: 'q', 18: 'r', 19: 's', 20: 't', 21: 'u', 22: 'v', 23: 'w', 24: 'x', 25: 'y', 26: 'z', 0: '.'}\n",
      "27\n"
     ]
    }
   ],
   "source": [
    "# build the vocabulary of characters and mappings to/from integers\n",
    "chars = sorted(list(set(''.join(words))))\n",
    "stoi = {s:i+1 for i,s in enumerate(chars)}\n",
    "stoi['.'] = 0\n",
    "itos = {i:s for s,i in stoi.items()}\n",
    "vocab_size = len(itos)\n",
    "print(itos)\n",
    "print(vocab_size)"
   ]
  },
  {
   "cell_type": "code",
   "execution_count": 4,
   "metadata": {},
   "outputs": [
    {
     "name": "stdout",
     "output_type": "stream",
     "text": [
      "torch.Size([182625, 3]) torch.Size([182625])\n",
      "torch.Size([22655, 3]) torch.Size([22655])\n",
      "torch.Size([22866, 3]) torch.Size([22866])\n"
     ]
    }
   ],
   "source": [
    "# build the dataset\n",
    "block_size = 3 # context length: how many characters do we take to predict the next one?\n",
    "\n",
    "def build_dataset(words):  \n",
    "  X, Y = [], []\n",
    "  \n",
    "  for w in words:\n",
    "    context = [0] * block_size\n",
    "    for ch in w + '.':\n",
    "      ix = stoi[ch]\n",
    "      X.append(context)\n",
    "      Y.append(ix)\n",
    "      context = context[1:] + [ix] # crop and append\n",
    "\n",
    "  X = torch.tensor(X)\n",
    "  Y = torch.tensor(Y)\n",
    "  print(X.shape, Y.shape)\n",
    "  return X, Y\n",
    "\n",
    "import random\n",
    "random.seed(42)\n",
    "random.shuffle(words)\n",
    "n1 = int(0.8*len(words))\n",
    "n2 = int(0.9*len(words))\n",
    "\n",
    "Xtr,  Ytr  = build_dataset(words[:n1])     # 80%\n",
    "Xdev, Ydev = build_dataset(words[n1:n2])   # 10%\n",
    "Xte,  Yte  = build_dataset(words[n2:])     # 10%"
   ]
  },
  {
   "cell_type": "markdown",
   "metadata": {},
   "source": [
    "#### BATCH NORMALISATION\n",
    "\n"
   ]
  },
  {
   "cell_type": "markdown",
   "metadata": {},
   "source": [
    "Internal Covariate Shift Reduction:\n",
    "\t•\tDuring training, the distribution of each layer’s inputs changes as the parameters of the previous layers change. This phenomenon is known as internal covariate shift.\n",
    "\t•\tBatch normalization reduces this shift by normalizing the inputs of each layer, thereby stabilizing the learning process.\n",
    "   \n",
    "1. We don't want the values pre-activation to be very small as `tanh` won't do much if they are.\n",
    "2. We don't want them to be too big either, because then `tanh` will become saturated.\n",
    "3. So, we want them to be roughly Gaussian, at least at initialization.\n",
    "4. With batch normalization, we can just normalize (make them Gaussian) the hidden states.\n",
    "5. However, we don't want to force them to always be Gaussian and allow the distribution to change during training.\n",
    "6. We take these normalized values and scale them by multiplying with a parameter and shift them by adding a parameter:\n",
    "   \\[\n",
    "   \\text{BN}(g,b)(x_i) \\rightarrow y_i \\rightarrow g \\cdot x_i(\\text{normalized}) + b\n",
    "   \\]\n",
    "7. At initialization, \\( g = 1 \\), \\( b = 0 \\), so that the distribution is exactly unit Gaussian.\n",
    "8. We normalize the batches, not the complete state."
   ]
  },
  {
   "cell_type": "markdown",
   "metadata": {},
   "source": [
    "BatchNorm as a Regularizer\n",
    "\n",
    "\t1.\tMini-Batch Variability:\n",
    "\t•\tEach mini-batch is a random sample of the training data, so the computed mean and variance for normalization will differ between mini-batches.\n",
    "\t•\tThis introduces noise in the input to each layer because the same input will be normalized differently depending on the mini-batch it is in.\n",
    "\t2.\tNoise Injection:\n",
    "\t•\tThe noise injected by batch normalization can be thought of as a form of stochastic noise that helps the model generalize better.\n",
    "\t•\tThis stochastic noise forces the network to rely less on the exact outputs of previous layers and more on the overall structure and patterns in the data.\n"
   ]
  },
  {
   "cell_type": "code",
   "execution_count": 7,
   "metadata": {},
   "outputs": [
    {
     "name": "stdout",
     "output_type": "stream",
     "text": [
      "12297\n"
     ]
    }
   ],
   "source": [
    "# MLP revisited\n",
    "n_embd = 10 # the dimensionality of the character embedding vectors\n",
    "n_hidden = 200 # the number of neurons in the hidden layer of the MLP\n",
    "\n",
    "g = torch.Generator().manual_seed(2147483647) # for reproducibility\n",
    "C  = torch.randn((vocab_size, n_embd),            generator=g)\n",
    "W1 = torch.randn((n_embd * block_size, n_hidden), generator=g) * (5/3) / ((n_embd*block_size)**0.5)\n",
    "b1 = torch.randn(n_hidden,                        generator=g) * 0.01\n",
    "W2 = torch.randn((n_hidden, vocab_size),          generator=g) * 0.01\n",
    "b2 = torch.randn(vocab_size,                      generator=g) * 0\n",
    "\n",
    "# batch norm params\n",
    "bngain = torch.ones((1,n_hidden))\n",
    "bnbias = torch.zeros((1,n_hidden))\n",
    "\n",
    "# all params\n",
    "parameters = [C, W1, b1, W2, b2,bngain, bnbias]\n",
    "\n",
    "\n",
    "print(sum(p.nelement() for p in parameters)) # number of parameters in total\n",
    "for p in parameters:\n",
    "  p.requires_grad = True"
   ]
  },
  {
   "cell_type": "code",
   "execution_count": 8,
   "metadata": {},
   "outputs": [
    {
     "name": "stdout",
     "output_type": "stream",
     "text": [
      "      0/ 200000: 3.3147\n",
      "  10000/ 200000: 2.1984\n",
      "  20000/ 200000: 2.3375\n",
      "  30000/ 200000: 2.4359\n",
      "  40000/ 200000: 2.0119\n",
      "  50000/ 200000: 2.2595\n",
      "  60000/ 200000: 2.4775\n",
      "  70000/ 200000: 2.1020\n",
      "  80000/ 200000: 2.2788\n",
      "  90000/ 200000: 2.1862\n",
      " 100000/ 200000: 1.9474\n",
      " 110000/ 200000: 2.3010\n",
      " 120000/ 200000: 1.9837\n",
      " 130000/ 200000: 2.4523\n",
      " 140000/ 200000: 2.3839\n",
      " 150000/ 200000: 2.1987\n",
      " 160000/ 200000: 1.9733\n",
      " 170000/ 200000: 1.8668\n",
      " 180000/ 200000: 1.9973\n",
      " 190000/ 200000: 1.8347\n"
     ]
    }
   ],
   "source": [
    "# same optimization as last time\n",
    "max_steps = 200000\n",
    "batch_size = 32\n",
    "lossi = []\n",
    "\n",
    "for i in range(max_steps):\n",
    "  \n",
    "  # minibatch construct\n",
    "  ix = torch.randint(0, Xtr.shape[0], (batch_size,), generator=g)\n",
    "  Xb, Yb = Xtr[ix], Ytr[ix] # batch X,Y\n",
    "  \n",
    "  # forward pass\n",
    "  emb = C[Xb] # embed the characters into vectors\n",
    "  embcat = emb.view(emb.shape[0], -1) # concatenate the vectors\n",
    "  # Linear layer\n",
    "  hpreact = embcat @ W1 + b1 # hidden layer pre-activation\n",
    "  # batch normalisation \n",
    "  hpreact =( hpreact - hpreact.mean(0,keepdim=True))/hpreact.std(0,keepdim=True)\n",
    "  hpreact=  bngain * (hpreact) + bnbias\n",
    "  # Non-linearity\n",
    "  h = torch.tanh(hpreact) # hidden layer\n",
    "  logits = h @ W2 + b2 #  output layer\n",
    "  loss = F.cross_entropy(logits, Yb) # loss function\n",
    "  \n",
    "  # backward pass\n",
    "  for p in parameters:\n",
    "    p.grad = None\n",
    "  loss.backward()\n",
    "  \n",
    "  # update\n",
    "  lr = 0.1 if i < 100000 else 0.01 # step learning rate decay\n",
    "  for p in parameters:\n",
    "    p.data += -lr * p.grad\n",
    "\n",
    "  # track stats\n",
    "  if i % 10000 == 0: # print every once in a while\n",
    "    print(f'{i:7d}/{max_steps:7d}: {loss.item():.4f}')\n",
    "  lossi.append(loss.log10().item())\n",
    "  #break"
   ]
  },
  {
   "cell_type": "code",
   "execution_count": 15,
   "metadata": {},
   "outputs": [
    {
     "data": {
      "text/plain": [
       "[<matplotlib.lines.Line2D at 0x137c93ed0>]"
      ]
     },
     "execution_count": 15,
     "metadata": {},
     "output_type": "execute_result"
    },
    {
     "data": {
      "image/png": "[encoded data removed]",
      "text/plain": [
       "<Figure size 640x480 with 1 Axes>"
      ]
     },
     "metadata": {},
     "output_type": "display_data"
    }
   ],
   "source": [
    "# after training completely\n",
    "plt.plot(lossi)"
   ]
  },
  {
   "cell_type": "markdown",
   "metadata": {},
   "source": [
    "If batchnorm relies on all examples of a batch to calulate statistics, then how will we use it when we are doing inference, coz at inference we may only have one sample at a time\n",
    "\n",
    "\t1.\tinstead on using examples of batch, while training we can calculate the mean,std of the complete training set\n",
    "\n",
    "    2.  When we are doing inference, we will replace the batch mean,std with the mean,std over complete training set\n",
    "\n",
    "    \n"
   ]
  },
  {
   "cell_type": "code",
   "execution_count": 16,
   "metadata": {},
   "outputs": [],
   "source": [
    "# calibrate the batch norm at the end of training\n",
    "with torch.no_grad():\n",
    "    # pass the training set through\n",
    "    emb=C[Xtr]\n",
    "    embcat = emb.view(emb.shape[0],-1)\n",
    "    hpreact  = embcat @ W1 + b1\n",
    "    # measure the mean/std over the training set\n",
    "    bnmean = hpreact.mean(0,keepdim=True)\n",
    "    bnstd = hpreact.std(0,keepdim=True)"
   ]
  },
  {
   "cell_type": "code",
   "execution_count": null,
   "metadata": {},
   "outputs": [
    {
     "name": "stdout",
     "output_type": "stream",
     "text": [
      "train 2.0668270587921143\n",
      "val 2.1049270629882812\n"
     ]
    }
   ],
   "source": [
    "@torch.no_grad() # this decorator disables gradient tracking for operations done by the following function, almost like all the tensor created here have requires_grad= False, we can also use a context manager with torch.nograd\n",
    "def split_loss(split):\n",
    "  x,y = {\n",
    "    'train': (Xtr, Ytr),\n",
    "    'val': (Xdev, Ydev),\n",
    "    'test': (Xte, Yte),\n",
    "  }[split]\n",
    "  emb = C[x] # (N, block_size, n_embd)\n",
    "  embcat = emb.view(emb.shape[0], -1) # concat into (N, block_size * n_embd)\n",
    "  hpreact = embcat @ W1  + b1 # h pre/before activations\n",
    "  # batch normalisation \n",
    "  #hpreact =( hpreact - hpreact.mean(0,keepdim=True))/hpreact.std(0,keepdim=True)\n",
    "  hpreact =(hpreact - bnmean)/bnstd\n",
    "\n",
    "  # using the training stats to normalise\n",
    "\n",
    "  hpreact=  bngain * (hpreact) + bnbias\n",
    "  \n",
    "  h = torch.tanh(hpreact) # (N, n_hidden)\n",
    "  logits = h @ W2 + b2 # (N, vocab_size)\n",
    "  loss = F.cross_entropy(logits, y)\n",
    "  print(split, loss.item())\n",
    "\n",
    "split_loss('train')\n",
    "split_loss('val')"
   ]
  },
  {
   "cell_type": "markdown",
   "metadata": {},
   "source": [
    "No one wats to estimate this bnmean and bnstd after training coz everyone's lazy\n",
    "Ideally we would want this to be a part during training itself. So we use the following approach\n",
    "\n",
    "## Retraining with this in mind\n"
   ]
  },
  {
   "cell_type": "code",
   "execution_count": 30,
   "metadata": {},
   "outputs": [
    {
     "name": "stdout",
     "output_type": "stream",
     "text": [
      "12097\n"
     ]
    }
   ],
   "source": [
    "# MLP revisited\n",
    "n_embd = 10 # the dimensionality of the character embedding vectors\n",
    "n_hidden = 200 # the number of neurons in the hidden layer of the MLP\n",
    "\n",
    "g = torch.Generator().manual_seed(2147483647) # for reproducibility\n",
    "C  = torch.randn((vocab_size, n_embd),            generator=g)\n",
    "W1 = torch.randn((n_embd * block_size, n_hidden), generator=g) * (5/3) / ((n_embd*block_size)**0.5)\n",
    "#b1 = torch.randn(n_hidden,                        generator=g) * 0.01\n",
    "W2 = torch.randn((n_hidden, vocab_size),          generator=g) * 0.01\n",
    "b2 = torch.randn(vocab_size,                      generator=g) * 0\n",
    "\n",
    "# batch norm params\n",
    "bngain = torch.ones((1,n_hidden))\n",
    "bnbias = torch.zeros((1,n_hidden))\n",
    "\n",
    "bnmean_running = torch.zeros((1,n_hidden)) # non trainable param, calculated on side during training but used only for inference\n",
    "bnstd_running = torch.ones((1,n_hidden))  # non trainable param, calculated on side during training but used only for inference\n",
    "\n",
    "# all params\n",
    "#parameters = [C, W1, b1, W2, b2,bngain, bnbias]\n",
    "parameters = [C, W1, W2, b2,bngain, bnbias]\n",
    "\n",
    "\n",
    "print(sum(p.nelement() for p in parameters)) # number of parameters in total\n",
    "for p in parameters:\n",
    "  p.requires_grad = True"
   ]
  },
  {
   "cell_type": "code",
   "execution_count": 31,
   "metadata": {},
   "outputs": [
    {
     "name": "stdout",
     "output_type": "stream",
     "text": [
      "      0/ 200000: 3.3239\n",
      "  10000/ 200000: 2.0322\n",
      "  20000/ 200000: 2.5675\n",
      "  30000/ 200000: 2.0125\n",
      "  40000/ 200000: 2.2446\n",
      "  50000/ 200000: 1.8897\n",
      "  60000/ 200000: 2.0785\n",
      "  70000/ 200000: 2.3681\n",
      "  80000/ 200000: 2.2918\n",
      "  90000/ 200000: 2.0238\n",
      " 100000/ 200000: 2.3673\n",
      " 110000/ 200000: 2.3132\n",
      " 120000/ 200000: 1.6413\n",
      " 130000/ 200000: 1.9311\n",
      " 140000/ 200000: 2.2231\n",
      " 150000/ 200000: 2.0027\n",
      " 160000/ 200000: 2.0997\n",
      " 170000/ 200000: 2.4949\n",
      " 180000/ 200000: 2.0199\n",
      " 190000/ 200000: 2.1707\n"
     ]
    }
   ],
   "source": [
    "# same optimization as last time\n",
    "max_steps = 200000\n",
    "batch_size = 32\n",
    "lossi = []\n",
    "\n",
    "for i in range(max_steps):\n",
    "  \n",
    "  # minibatch construct\n",
    "  ix = torch.randint(0, Xtr.shape[0], (batch_size,), generator=g)\n",
    "  Xb, Yb = Xtr[ix], Ytr[ix] # batch X,Y\n",
    "  \n",
    "  # forward pass\n",
    "  emb = C[Xb] # embed the characters into vectors\n",
    "  embcat = emb.view(emb.shape[0], -1) # concatenate the vectors\n",
    "  # Linear layer\n",
    "  hpreact = embcat @ W1 #+ b1 # hidden layer pre-activation\n",
    "  # batch normalisation \n",
    "  bnmeani = hpreact.mean(0,keepdim=True)\n",
    "  bnstdi = hpreact.std(0,keepdim=True)\n",
    "  hpreact =(hpreact -bnmeani )/bnstdi\n",
    "  hpreact=  bngain * (hpreact) + bnbias\n",
    "\n",
    "  momentum = 0.001\n",
    "  with torch.no_grad(): # this update is outside and on the side of gradient based optimisation\n",
    "    bnmean_running = (1-momentum)*bnmean_running + momentum*bnmeani # 0.00\n",
    "    bnstd_running = (1-momentum)*bnstd_running + momentum*bnstdi\n",
    "\n",
    "     \n",
    "  # Non-linearity\n",
    "  h = torch.tanh(hpreact) # hidden layer\n",
    "  logits = h @ W2 + b2 #  output layer\n",
    "  loss = F.cross_entropy(logits, Yb) # loss function\n",
    "  \n",
    "  # backward pass\n",
    "  for p in parameters:\n",
    "    p.grad = None\n",
    "  loss.backward()\n",
    "  \n",
    "  # update\n",
    "  lr = 0.1 if i < 100000 else 0.01 # step learning rate decay\n",
    "  for p in parameters:\n",
    "    p.data += -lr * p.grad\n",
    "\n",
    "  # track stats\n",
    "  if i % 10000 == 0: # print every once in a while\n",
    "    print(f'{i:7d}/{max_steps:7d}: {loss.item():.4f}')\n",
    "  lossi.append(loss.log10().item())\n",
    "  #break"
   ]
  },
  {
   "cell_type": "code",
   "execution_count": 32,
   "metadata": {},
   "outputs": [
    {
     "data": {
      "text/plain": [
       "[<matplotlib.lines.Line2D at 0x137cb97d0>]"
      ]
     },
     "execution_count": 32,
     "metadata": {},
     "output_type": "execute_result"
    },
    {
     "data": {
      "image/png": "[encoded data removed]",
      "text/plain": [
       "<Figure size 640x480 with 1 Axes>"
      ]
     },
     "metadata": {},
     "output_type": "display_data"
    }
   ],
   "source": [
    "# after training completely\n",
    "plt.plot(lossi)"
   ]
  },
  {
   "cell_type": "code",
   "execution_count": 33,
   "metadata": {},
   "outputs": [
    {
     "name": "stdout",
     "output_type": "stream",
     "text": [
      "train 2.0674145221710205\n",
      "val 2.1056838035583496\n"
     ]
    }
   ],
   "source": [
    "@torch.no_grad() # this decorator disables gradient tracking for operations done by the following function, almost like all the tensor created here have requires_grad= False, we can also use a context manager with torch.nograd\n",
    "def split_loss(split):\n",
    "  x,y = {\n",
    "    'train': (Xtr, Ytr),\n",
    "    'val': (Xdev, Ydev),\n",
    "    'test': (Xte, Yte),\n",
    "  }[split]\n",
    "  emb = C[x] # (N, block_size, n_embd)\n",
    "  embcat = emb.view(emb.shape[0], -1) # concat into (N, block_size * n_embd)\n",
    "  hpreact = embcat @ W1  #+ b1 # h pre/before activations\n",
    "  # batch normalisation \n",
    "  #hpreact =( hpreact - hpreact.mean(0,keepdim=True))/hpreact.std(0,keepdim=True)\n",
    "  hpreact =(hpreact - bnmean_running)/bnstd_running\n",
    "\n",
    "  # using the training stats to normalise\n",
    "\n",
    "  hpreact=  bngain * (hpreact) + bnbias\n",
    "  \n",
    "  h = torch.tanh(hpreact) # (N, n_hidden)\n",
    "  logits = h @ W2 + b2 # (N, vocab_size)\n",
    "  loss = F.cross_entropy(logits, y)\n",
    "  print(split, loss.item())\n",
    "\n",
    "split_loss('train')\n",
    "split_loss('val')"
   ]
  },
  {
   "cell_type": "code",
   "execution_count": null,
   "metadata": {},
   "outputs": [],
   "source": [
    "# its common to sprinkle batch normalisation layers in the neural network\n",
    "# usually after layers that contain multiplication operations like a linear layer or a convolutional layer\n",
    "# batch norm itself has 2 params gain and bias that are optimised during training\n",
    "# batch norm also has 2 buffers which are (mean(running mean) and std dev(running mean of the std dev)), these are not trained during backprop but trained using the janky running mean update\n",
    "# the buffers are useful during inference, since we dont want to depend on the batch during inf, we use the buffers\n",
    "# there is an epsilon parameter when youre normalising values in BN, epsilon is a small number usually 1e-5 \n",
    "# epsilon is basically preventing a division by zero, incase when variance of the batch is exactly 0 \n",
    "\n",
    "# the bias we used earlier in hpreact are useless as they are getting subtracted when youre subtracting bnmeani\n",
    "#  so these biases are not doing anything and hence we don't need to define them at all (b1.grad will be zero)\n",
    "\n",
    "# so whenever we are using batch norm layer and we have weight layers like linear or conv, then we don't need to include bias in them\n",
    "# instead now we have the bnbias which is incharge of biasing the distribution\n",
    "\n",
    "#if batch size is high we can expect roughly same mean,std for each batch so we can use higher value (0.1) for momentum\n",
    "# but when the batch size is small(like 32) the mean and std of each batch may vary more because the number of examples are less\n",
    "# so we don't want to be using high momentum if batch size is small coz then the running mean and std may be trashing too much and might not be able to converge properly\n",
    "\n"
   ]
  },
  {
   "cell_type": "code",
   "execution_count": 37,
   "metadata": {},
   "outputs": [
    {
     "name": "stdout",
     "output_type": "stream",
     "text": [
      "carlah.\n",
      "amorie.\n",
      "khi.\n",
      "mri.\n",
      "reity.\n",
      "salaysie.\n",
      "mahnen.\n",
      "delynn.\n",
      "jareei.\n",
      "ner.\n",
      "kiah.\n",
      "maiivia.\n",
      "leigh.\n",
      "ham.\n",
      "joce.\n",
      "quint.\n",
      "salin.\n",
      "alianni.\n",
      "wate.\n",
      "madiaryn.\n"
     ]
    }
   ],
   "source": [
    "# sampling\n",
    "g = torch.Generator().manual_seed(2147483647 + 10)\n",
    "for _ in range(20):\n",
    "    out =[]\n",
    "    context = [0]*block_size # initialize with all ...\n",
    "    while True:\n",
    "        es = C[torch.tensor([context])]\n",
    "        h = es.view(1,-1) @ W1\n",
    "        hn = (h - bnmean_running)/bnstd_running\n",
    "        hn=  bngain * (hn) + bnbias\n",
    "\n",
    "        hs = torch.tanh(hn )\n",
    "        logits = hs @ W2 + b2\n",
    "        probs = F.softmax(logits,dim=1)\n",
    "        # sample from the distribution\n",
    "        ix = torch.multinomial(probs, num_samples=1,generator=g).item()\n",
    "        # shift the context window and track the samples\n",
    "        context = context[1:]+[ix]\n",
    "        out.append(ix)\n",
    "        # if we sample the '.' token, break\n",
    "        if ix == 0:\n",
    "            break\n",
    "    print(''.join(itos[i] for i in out))"
   ]
  },
  {
   "cell_type": "code",
   "execution_count": null,
   "metadata": {},
   "outputs": [],
   "source": [
    "# Batch normalisation is not so frequently used these days,\n",
    "# Instead use of Group Normalisation and Layer Normalisation is more common"
   ]
  }
 ],
 "metadata": {
  "kernelspec": {
   "display_name": "gpt-env",
   "language": "python",
   "name": "python3"
  },
  "language_info": {
   "codemirror_mode": {
    "name": "ipython",
    "version": 3
   },
   "file_extension": ".py",
   "mimetype": "text/x-python",
   "name": "python",
   "nbconvert_exporter": "python",
   "pygments_lexer": "ipython3",
   "version": "3.11.1"
  }
 },
 "nbformat": 4,
 "nbformat_minor": 2
}
