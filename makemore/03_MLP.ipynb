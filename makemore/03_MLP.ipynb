{
 "cells": [
  {
   "cell_type": "code",
   "execution_count": 2,
   "metadata": {},
   "outputs": [],
   "source": [
    "import torch\n",
    "import torch.nn.functional as F\n",
    "import matplotlib.pyplot as plt\n",
    "%matplotlib inline"
   ]
  },
  {
   "cell_type": "code",
   "execution_count": 3,
   "metadata": {},
   "outputs": [
    {
     "name": "stdout",
     "output_type": "stream",
     "text": [
      "['emma', 'olivia', 'ava', 'isabella', 'sophia']\n",
      "32033\n"
     ]
    }
   ],
   "source": [
    "words = open('names.txt','r').read().splitlines()\n",
    "print(words[:5])\n",
    "print(len(words))"
   ]
  },
  {
   "cell_type": "code",
   "execution_count": 4,
   "metadata": {},
   "outputs": [
    {
     "name": "stdout",
     "output_type": "stream",
     "text": [
      "{1: 'a', 2: 'b', 3: 'c', 4: 'd', 5: 'e', 6: 'f', 7: 'g', 8: 'h', 9: 'i', 10: 'j', 11: 'k', 12: 'l', 13: 'm', 14: 'n', 15: 'o', 16: 'p', 17: 'q', 18: 'r', 19: 's', 20: 't', 21: 'u', 22: 'v', 23: 'w', 24: 'x', 25: 'y', 26: 'z', 0: '.'}\n"
     ]
    }
   ],
   "source": [
    "chars = sorted(list(set(''.join(words))))\n",
    "stoi = {s:i+1 for i,s in enumerate(chars) }\n",
    "stoi['.'] = 0\n",
    "itos = {i:s for s,i in stoi.items()}\n",
    "print(itos)"
   ]
  },
  {
   "cell_type": "code",
   "execution_count": 4,
   "metadata": {},
   "outputs": [],
   "source": [
    "# build the dataset\n",
    "block_size = 3 # context length, number of characters taken to predict the next character\n",
    "\n",
    "def build_dataset(words):\n",
    "    X,Y = [], []\n",
    "    for w in words:\n",
    "        context =[0]*block_size\n",
    "        chars = w + '.'\n",
    "        for ch in chars:\n",
    "            ix = stoi[ch]\n",
    "            X.append(context)\n",
    "            Y.append(ix)\n",
    "            context = context[1:]+[ix]\n",
    "    X = torch.tensor(X)\n",
    "    Y = torch.tensor(Y)\n",
    "    return X,Y"
   ]
  },
  {
   "cell_type": "code",
   "execution_count": 5,
   "metadata": {},
   "outputs": [
    {
     "data": {
      "text/plain": [
       "(torch.Size([228146, 3]), torch.Size([228146]))"
      ]
     },
     "execution_count": 5,
     "metadata": {},
     "output_type": "execute_result"
    }
   ],
   "source": [
    "X,Y  =build_dataset(words)\n",
    "X.shape, Y.shape"
   ]
  },
  {
   "cell_type": "code",
   "execution_count": 6,
   "metadata": {},
   "outputs": [
    {
     "data": {
      "text/plain": [
       "tensor([[ 0,  0,  0],\n",
       "        [ 0,  0,  5],\n",
       "        [ 0,  5, 13],\n",
       "        ...,\n",
       "        [26, 26, 25],\n",
       "        [26, 25, 26],\n",
       "        [25, 26, 24]])"
      ]
     },
     "execution_count": 6,
     "metadata": {},
     "output_type": "execute_result"
    }
   ],
   "source": [
    "X"
   ]
  },
  {
   "cell_type": "code",
   "execution_count": 7,
   "metadata": {},
   "outputs": [
    {
     "data": {
      "text/plain": [
       "tensor([ 5, 13, 13,  ..., 26, 24,  0])"
      ]
     },
     "execution_count": 7,
     "metadata": {},
     "output_type": "execute_result"
    }
   ],
   "source": [
    "Y"
   ]
  },
  {
   "cell_type": "markdown",
   "metadata": {},
   "source": [
    "# creating embeddings for a single number"
   ]
  },
  {
   "cell_type": "code",
   "execution_count": 8,
   "metadata": {},
   "outputs": [
    {
     "data": {
      "text/plain": [
       "tensor([[ 0.0879,  1.2771],\n",
       "        [-0.5966, -1.1305],\n",
       "        [ 0.8246,  0.7665],\n",
       "        [ 2.2001,  1.1527],\n",
       "        [-0.3544,  0.3202],\n",
       "        [ 1.1859,  0.8914],\n",
       "        [ 0.3640, -0.3128],\n",
       "        [ 1.1458, -0.1729],\n",
       "        [-0.2434, -0.4305],\n",
       "        [-1.2239,  0.9029],\n",
       "        [-1.1380, -0.8477],\n",
       "        [ 0.1327,  0.3584],\n",
       "        [-1.2684, -0.7974],\n",
       "        [-0.1992, -0.5480],\n",
       "        [ 0.9007, -0.0407],\n",
       "        [-0.6728, -0.0047],\n",
       "        [-1.0202,  0.4989],\n",
       "        [ 1.0256, -0.7559],\n",
       "        [ 0.3774,  0.2505],\n",
       "        [ 0.2128,  0.6270],\n",
       "        [ 0.5374, -0.4209],\n",
       "        [-0.8051, -1.6438],\n",
       "        [ 0.0243,  1.2121],\n",
       "        [ 0.2960,  1.8570],\n",
       "        [ 1.1130,  0.8876],\n",
       "        [-0.7172,  0.0273],\n",
       "        [ 0.5112, -0.6853]])"
      ]
     },
     "execution_count": 8,
     "metadata": {},
     "output_type": "execute_result"
    }
   ],
   "source": [
    "embedding_dim = 2\n",
    "C = torch.randn((27,embedding_dim)) # for each character(total 27 unique possible chars) we have a 2D embedding\n",
    "C # randomly initialized"
   ]
  },
  {
   "cell_type": "code",
   "execution_count": 9,
   "metadata": {},
   "outputs": [
    {
     "data": {
      "text/plain": [
       "torch.Size([27, 2])"
      ]
     },
     "execution_count": 9,
     "metadata": {},
     "output_type": "execute_result"
    }
   ],
   "source": [
    "C.shape"
   ]
  },
  {
   "cell_type": "code",
   "execution_count": 10,
   "metadata": {},
   "outputs": [
    {
     "name": "stdout",
     "output_type": "stream",
     "text": [
      "tensor([1.1859, 0.8914])\n",
      "tensor([1.1859, 0.8914])\n"
     ]
    }
   ],
   "source": [
    "# ways to get embeddings for a index\n",
    "example_idx=5\n",
    "print(C[example_idx]) # simply indexing the embeddings array (simpler so we'll use this further)\n",
    "print(F.one_hot(torch.tensor(example_idx),num_classes=27).float() @ C) # converting to one hot and multiplying with C"
   ]
  },
  {
   "cell_type": "code",
   "execution_count": 11,
   "metadata": {},
   "outputs": [
    {
     "data": {
      "text/plain": [
       "tensor([[-0.5966, -1.1305],\n",
       "        [ 0.8246,  0.7665],\n",
       "        [ 2.2001,  1.1527]])"
      ]
     },
     "execution_count": 11,
     "metadata": {},
     "output_type": "execute_result"
    }
   ],
   "source": [
    "# for a list we can also do\n",
    "C[[1,2,3]] # getting the 1,2,3rd rows from C"
   ]
  },
  {
   "cell_type": "code",
   "execution_count": 12,
   "metadata": {},
   "outputs": [
    {
     "data": {
      "text/plain": [
       "tensor([[ 1.1859,  0.8914],\n",
       "        [ 0.3640, -0.3128],\n",
       "        [ 1.1458, -0.1729],\n",
       "        [ 1.1458, -0.1729],\n",
       "        [ 1.1458, -0.1729]])"
      ]
     },
     "execution_count": 12,
     "metadata": {},
     "output_type": "execute_result"
    }
   ],
   "source": [
    "# for a 1 D tensor we can also do\n",
    "C[torch.tensor([5,6,7,7,7])]\n",
    "# we can also do the same for N D tensor"
   ]
  },
  {
   "cell_type": "code",
   "execution_count": 13,
   "metadata": {},
   "outputs": [
    {
     "data": {
      "text/plain": [
       "(torch.Size([228146, 3]),\n",
       " torch.int64,\n",
       " torch.Size([228146]),\n",
       " torch.int64,\n",
       " torch.Size([27, 2]))"
      ]
     },
     "execution_count": 13,
     "metadata": {},
     "output_type": "execute_result"
    }
   ],
   "source": [
    "X.shape, X.dtype, Y.shape, Y.dtype,C.shape"
   ]
  },
  {
   "cell_type": "code",
   "execution_count": 14,
   "metadata": {},
   "outputs": [
    {
     "data": {
      "text/plain": [
       "torch.Size([228146, 3, 2])"
      ]
     },
     "execution_count": 14,
     "metadata": {},
     "output_type": "execute_result"
    }
   ],
   "source": [
    "# indexing all the X.shape integers simultaneiusly\n",
    "emb = C[X]\n",
    "emb.shape"
   ]
  },
  {
   "cell_type": "markdown",
   "metadata": {},
   "source": [
    "$$y=x^2$$"
   ]
  },
  {
   "cell_type": "markdown",
   "metadata": {},
   "source": [
    "In a neural network, each neuron in a hidden layer with \\(N\\) input dimensions will have \\(N\\) weights, one for each input dimension, and a single bias term. Here’s a detailed explanation:\n",
    "\n",
    "1. **Weights:** Each neuron receives inputs from all \\(N\\) dimensions of the input vector. Therefore, it has a weight associated with each input dimension. If the input vector is \\(X = [x_1, x_2, \\ldots, x_N]\\), the weights can be represented as \\(W = [w_1, w_2, \\ldots, w_N]\\).\n",
    "\n",
    "2. **Bias:** In addition to the \\(N\\) weights, each neuron has one bias term, denoted as \\(b\\).\n",
    "\n",
    "The output of a single neuron \\(y\\) can be computed as:\n",
    "\n",
    "$$\n",
    "y = \\sigma\\left(\\sum_{i=1}^{N} w_i x_i + b\\right)\n",
    "$$\n",
    "\n",
    "where \\(\\sigma\\) is the activation function (e.g., sigmoid, ReLU, etc.).\n",
    "\n",
    "To summarize, a single neuron in a hidden layer with \\(N\\) input dimensions has:\n",
    "- \\(N\\) weights, each corresponding to an input dimension.\n",
    "- 1 bias term.\n",
    "\n",
    "So, in your example, if the input is \\(N\\)-dimensional, the neuron does not have a single value for the weight or bias; it has \\(N\\) weights and one bias term."
   ]
  },
  {
   "cell_type": "code",
   "execution_count": 15,
   "metadata": {},
   "outputs": [
    {
     "data": {
      "text/plain": [
       "(torch.Size([6, 100]), torch.Size([100]))"
      ]
     },
     "execution_count": 15,
     "metadata": {},
     "output_type": "execute_result"
    }
   ],
   "source": [
    "# constructing the hidden layer\n",
    "n_neurons = 100 # hyperparameter\n",
    "num_inputs = block_size * embedding_dim # 3 words with 2 dims each\n",
    "W1 = torch.randn((num_inputs,n_neurons))\n",
    "b1 = torch.randn(n_neurons)\n",
    "W1.shape, b1.shape"
   ]
  },
  {
   "cell_type": "code",
   "execution_count": 16,
   "metadata": {},
   "outputs": [
    {
     "data": {
      "text/plain": [
       "torch.Size([228146, 3, 2])"
      ]
     },
     "execution_count": 16,
     "metadata": {},
     "output_type": "execute_result"
    }
   ],
   "source": [
    "emb.shape"
   ]
  },
  {
   "cell_type": "code",
   "execution_count": 17,
   "metadata": {},
   "outputs": [
    {
     "ename": "RuntimeError",
     "evalue": "mat1 and mat2 shapes cannot be multiplied (684438x2 and 6x100)",
     "output_type": "error",
     "traceback": [
      "\u001b[0;31m---------------------------------------------------------------------------\u001b[0m",
      "\u001b[0;31mRuntimeError\u001b[0m                              Traceback (most recent call last)",
      "Cell \u001b[0;32mIn[17], line 2\u001b[0m\n\u001b[1;32m      1\u001b[0m \u001b[38;5;66;03m# this wont work because the W emb has stacked up the examples\u001b[39;00m\n\u001b[0;32m----> 2\u001b[0m \u001b[43memb\u001b[49m\u001b[43m \u001b[49m\u001b[38;5;241;43m@\u001b[39;49m\u001b[43m \u001b[49m\u001b[43mW1\u001b[49m \u001b[38;5;241m+\u001b[39m b1\n",
      "\u001b[0;31mRuntimeError\u001b[0m: mat1 and mat2 shapes cannot be multiplied (684438x2 and 6x100)"
     ]
    }
   ],
   "source": [
    "# this wont work because the W emb has stacked up the examples\n",
    "emb @ W1 + b1"
   ]
  },
  {
   "cell_type": "code",
   "execution_count": 18,
   "metadata": {},
   "outputs": [
    {
     "data": {
      "text/plain": [
       "torch.Size([228146, 6])"
      ]
     },
     "execution_count": 18,
     "metadata": {},
     "output_type": "execute_result"
    }
   ],
   "source": [
    "# therefore we need to concat the emb \n",
    "torch.cat([emb[:,0,:],emb[:,1,:],emb[:,2,:]],1).shape # concatenating along the 1 dim not 0\n",
    "# but this is not scalable when we have a large block size as we will have to sepecify seperately for 0,1,2,3,4... "
   ]
  },
  {
   "cell_type": "code",
   "execution_count": 19,
   "metadata": {},
   "outputs": [
    {
     "data": {
      "text/plain": [
       "torch.Size([228146, 6])"
      ]
     },
     "execution_count": 19,
     "metadata": {},
     "output_type": "execute_result"
    }
   ],
   "source": [
    "# so we use torch.unbind\n",
    "torch.cat(torch.unbind(emb,1),1).shape # .cat is not efficient as it creates new memory"
   ]
  },
  {
   "cell_type": "code",
   "execution_count": 20,
   "metadata": {},
   "outputs": [
    {
     "data": {
      "text/plain": [
       "tensor([[ 0.0879,  1.2771,  0.0879,  1.2771,  0.0879,  1.2771],\n",
       "        [ 0.0879,  1.2771,  0.0879,  1.2771,  1.1859,  0.8914],\n",
       "        [ 0.0879,  1.2771,  1.1859,  0.8914, -0.1992, -0.5480],\n",
       "        ...,\n",
       "        [ 0.5112, -0.6853,  0.5112, -0.6853, -0.7172,  0.0273],\n",
       "        [ 0.5112, -0.6853, -0.7172,  0.0273,  0.5112, -0.6853],\n",
       "        [-0.7172,  0.0273,  0.5112, -0.6853,  1.1130,  0.8876]])"
      ]
     },
     "execution_count": 20,
     "metadata": {},
     "output_type": "execute_result"
    }
   ],
   "source": [
    "# a much more efficient approach is to use .view function in pytorch\n",
    "emb.view(228146,6)"
   ]
  },
  {
   "cell_type": "code",
   "execution_count": 21,
   "metadata": {},
   "outputs": [
    {
     "data": {
      "text/plain": [
       "torch.Size([228146, 100])"
      ]
     },
     "execution_count": 21,
     "metadata": {},
     "output_type": "execute_result"
    }
   ],
   "source": [
    "# so we can do the following to get the hidden states\n",
    "h = emb.view(emb.shape[0],num_inputs) @ W1 + b1\n",
    "h.shape"
   ]
  },
  {
   "cell_type": "code",
   "execution_count": 22,
   "metadata": {},
   "outputs": [
    {
     "data": {
      "text/plain": [
       "torch.Size([228146, 100])"
      ]
     },
     "execution_count": 22,
     "metadata": {},
     "output_type": "execute_result"
    }
   ],
   "source": [
    "#this is also possible \n",
    "# so we can do the following to get the hidden states\n",
    "h = emb.view(-1,num_inputs) @ W1 + b1 # -1, means pytorch will infer the value required as product should be same\n",
    "h.shape"
   ]
  },
  {
   "cell_type": "code",
   "execution_count": 23,
   "metadata": {},
   "outputs": [
    {
     "data": {
      "text/plain": [
       "tensor([[-2.1477,  1.7369,  3.1131,  ..., -4.2107, -0.6919, -1.9448],\n",
       "        [-2.0322,  0.5100,  2.4993,  ..., -3.6945,  0.5100, -1.7193],\n",
       "        [ 0.9034, -1.4420,  1.1100,  ..., -1.9784,  4.5905, -1.6468],\n",
       "        ...,\n",
       "        [ 0.1782, -1.7082,  0.7158,  ...,  0.3871,  1.6409,  0.1254],\n",
       "        [-0.8625, -0.5642,  1.8807,  ...,  1.5240,  2.5728,  0.8628],\n",
       "        [-2.2653, -2.4600, -0.8515,  ..., -1.7315, -0.4377, -0.5761]])"
      ]
     },
     "execution_count": 23,
     "metadata": {},
     "output_type": "execute_result"
    }
   ],
   "source": [
    "h"
   ]
  },
  {
   "cell_type": "markdown",
   "metadata": {},
   "source": [
    "### applying activation"
   ]
  },
  {
   "cell_type": "code",
   "execution_count": 24,
   "metadata": {},
   "outputs": [
    {
     "name": "stdout",
     "output_type": "stream",
     "text": [
      "torch.Size([228146, 100])\n"
     ]
    },
    {
     "data": {
      "text/plain": [
       "tensor([[-0.9731,  0.9399,  0.9961,  ..., -0.9996, -0.5992, -0.9599],\n",
       "        [-0.9662,  0.4700,  0.9866,  ..., -0.9988,  0.4699, -0.9378],\n",
       "        [ 0.7180, -0.8941,  0.8041,  ..., -0.9625,  0.9998, -0.9284],\n",
       "        ...,\n",
       "        [ 0.1763, -0.9364,  0.6143,  ...,  0.3688,  0.9276,  0.1248],\n",
       "        [-0.6975, -0.5111,  0.9546,  ...,  0.9094,  0.9884,  0.6977],\n",
       "        [-0.9787, -0.9855, -0.6919,  ..., -0.9392, -0.4117, -0.5198]])"
      ]
     },
     "execution_count": 24,
     "metadata": {},
     "output_type": "execute_result"
    }
   ],
   "source": [
    "# so we can do the following to get the hidden states\n",
    "h = torch.tanh(emb.view(emb.shape[0],num_inputs) @ W1 + b1)\n",
    "print(h.shape)\n",
    "h"
   ]
  },
  {
   "cell_type": "markdown",
   "metadata": {},
   "source": [
    "### create another layer, final layer"
   ]
  },
  {
   "cell_type": "code",
   "execution_count": 25,
   "metadata": {},
   "outputs": [],
   "source": [
    "# inputs will be the output of prev layer\n",
    "num_inputs_second_layer = h.shape[1] # inputs for 2nd layer\n",
    "num_outputs = 27 # for each char, total we have 27 neurons\n",
    "W2 = torch.randn((num_inputs_second_layer,num_outputs ))\n",
    "b2 = torch.randn(num_outputs)\n"
   ]
  },
  {
   "cell_type": "code",
   "execution_count": 26,
   "metadata": {},
   "outputs": [
    {
     "data": {
      "text/plain": [
       "(torch.Size([228146, 100]), torch.Size([100, 27]), torch.Size([27]))"
      ]
     },
     "execution_count": 26,
     "metadata": {},
     "output_type": "execute_result"
    }
   ],
   "source": [
    "h.shape,W2.shape, b2.shape"
   ]
  },
  {
   "cell_type": "code",
   "execution_count": 27,
   "metadata": {},
   "outputs": [
    {
     "data": {
      "text/plain": [
       "torch.Size([228146, 27])"
      ]
     },
     "execution_count": 27,
     "metadata": {},
     "output_type": "execute_result"
    }
   ],
   "source": [
    "logits = h@W2+b2 # we dont need to do .view here as dims are proper\n",
    "logits.shape"
   ]
  },
  {
   "cell_type": "code",
   "execution_count": 28,
   "metadata": {},
   "outputs": [
    {
     "data": {
      "text/plain": [
       "tensor([[-16.1397,  -3.5328, -13.2052,  ...,   1.4804,  -1.6016,  -0.9418],\n",
       "        [-18.4959, -11.6135,  -9.0876,  ...,   5.7273,  -2.8977,  -0.3407],\n",
       "        [ -8.3849,  -9.4773,  -1.8063,  ...,  -1.1070,  11.2693,  -4.6804],\n",
       "        ...,\n",
       "        [  2.7812,  -3.1714,  -4.7464,  ...,   0.4615,  16.5299,  -0.8866],\n",
       "        [  3.5866,  -2.4891, -10.9933,  ...,   2.2986,  -1.6665,   5.8310],\n",
       "        [-13.5892, -16.2394,   1.8074,  ...,   2.9279,  16.1200,   3.5841]])"
      ]
     },
     "execution_count": 28,
     "metadata": {},
     "output_type": "execute_result"
    }
   ],
   "source": [
    "logits"
   ]
  },
  {
   "cell_type": "code",
   "execution_count": 29,
   "metadata": {},
   "outputs": [
    {
     "data": {
      "text/plain": [
       "tensor([[9.7858e-08, 2.9224e-02, 1.8410e-06,  ..., 4.3947e+00, 2.0157e-01,\n",
       "         3.8993e-01],\n",
       "        [9.2756e-09, 9.0429e-06, 1.1306e-04,  ..., 3.0712e+02, 5.5150e-02,\n",
       "         7.1125e-01],\n",
       "        [2.2828e-04, 7.6573e-05, 1.6426e-01,  ..., 3.3056e-01, 7.8378e+04,\n",
       "         9.2752e-03],\n",
       "        ...,\n",
       "        [1.6138e+01, 4.1943e-02, 8.6829e-03,  ..., 1.5864e+00, 1.5096e+07,\n",
       "         4.1205e-01],\n",
       "        [3.6111e+01, 8.2985e-02, 1.6814e-05,  ..., 9.9600e+00, 1.8891e-01,\n",
       "         3.4070e+02],\n",
       "        [1.2539e-06, 8.8578e-08, 6.0946e+00,  ..., 1.8688e+01, 1.0019e+07,\n",
       "         3.6020e+01]])"
      ]
     },
     "execution_count": 29,
     "metadata": {},
     "output_type": "execute_result"
    }
   ],
   "source": [
    "# applying softmax\n",
    "counts = logits.exp()\n",
    "counts"
   ]
  },
  {
   "cell_type": "code",
   "execution_count": 50,
   "metadata": {},
   "outputs": [
    {
     "name": "stdout",
     "output_type": "stream",
     "text": [
      "torch.Size([228146, 27]) tensor(1.0000)\n"
     ]
    }
   ],
   "source": [
    "# applying softmax\n",
    "prob = counts/counts.sum(1,keepdim=True)\n",
    "print(prob.shape, prob[8].sum())"
   ]
  },
  {
   "cell_type": "code",
   "execution_count": 51,
   "metadata": {},
   "outputs": [
    {
     "data": {
      "text/plain": [
       "tensor([[8.5398e-18, 2.5503e-12, 1.6066e-16,  ..., 3.8352e-10, 1.7590e-11,\n",
       "         3.4028e-11],\n",
       "        [4.0765e-15, 3.9742e-12, 4.9689e-11,  ..., 1.3498e-04, 2.4238e-08,\n",
       "         3.1258e-07],\n",
       "        [9.2314e-10, 3.0966e-10, 6.6425e-07,  ..., 1.3368e-06, 3.1695e-01,\n",
       "         3.7508e-08],\n",
       "        ...,\n",
       "        [6.4211e-07, 1.6689e-09, 3.4548e-10,  ..., 6.3120e-08, 6.0063e-01,\n",
       "         1.6395e-08],\n",
       "        [1.3835e-05, 3.1794e-08, 6.4418e-12,  ..., 3.8160e-06, 7.2378e-08,\n",
       "         1.3053e-04],\n",
       "        [3.5661e-14, 2.5191e-15, 1.7333e-07,  ..., 5.3148e-07, 2.8493e-01,\n",
       "         1.0244e-06]])"
      ]
     },
     "execution_count": 51,
     "metadata": {},
     "output_type": "execute_result"
    }
   ],
   "source": [
    "prob"
   ]
  },
  {
   "cell_type": "code",
   "execution_count": 32,
   "metadata": {},
   "outputs": [
    {
     "data": {
      "text/plain": [
       "tensor([ 5, 13, 13,  ..., 26, 24,  0])"
      ]
     },
     "execution_count": 32,
     "metadata": {},
     "output_type": "execute_result"
    }
   ],
   "source": [
    "# actual letter that comes next for a particular block sized context \n",
    "Y"
   ]
  },
  {
   "cell_type": "code",
   "execution_count": null,
   "metadata": {},
   "outputs": [],
   "source": [
    "# we now want to index into the rows of probs and in each row, pluck out the probability assigned the correct character\n",
    "# ideally all these values should be 1 because perfect model should be able to predict the correct character only"
   ]
  },
  {
   "cell_type": "code",
   "execution_count": 52,
   "metadata": {},
   "outputs": [
    {
     "data": {
      "text/plain": [
       "(torch.Size([228146, 27]), torch.Size([228146]))"
      ]
     },
     "execution_count": 52,
     "metadata": {},
     "output_type": "execute_result"
    }
   ],
   "source": [
    "prob.shape, Y.shape"
   ]
  },
  {
   "cell_type": "code",
   "execution_count": 54,
   "metadata": {},
   "outputs": [
    {
     "data": {
      "text/plain": [
       "tensor([7.4206e-09, 3.3310e-07, 1.4256e-04, 1.1065e-08, 6.6315e-09, 7.3867e-11,\n",
       "        1.5889e-09, 6.4262e-06, 6.8024e-06, 2.5343e-09, 2.6764e-09, 1.9808e-03,\n",
       "        2.5503e-12, 2.6238e-08, 7.4433e-07, 1.7749e-08, 2.1477e-17, 2.4711e-08,\n",
       "        6.5927e-06, 4.8386e-05, 9.2484e-01, 3.4686e-14, 2.2333e-04, 9.9116e-06,\n",
       "        8.1238e-10, 3.3379e-05, 2.9594e-11, 3.5303e-04, 3.4319e-04, 1.8143e-09,\n",
       "        2.1599e-03, 1.5868e-08])"
      ]
     },
     "execution_count": 54,
     "metadata": {},
     "output_type": "execute_result"
    }
   ],
   "source": [
    "prob[torch.arange(32),Y[0:32]] # gives the value of the index in Y for each of the 32 rows in prob,\n",
    "# these are the probabilites that the model predicted for the correct chars\n",
    "# we can see they are far from 1 but till now we haven't trained the model so its fine"
   ]
  },
  {
   "cell_type": "markdown",
   "metadata": {},
   "source": [
    "### negative log likelihood - loss function"
   ]
  },
  {
   "cell_type": "code",
   "execution_count": 64,
   "metadata": {},
   "outputs": [
    {
     "data": {
      "text/plain": [
       "tensor(18.0129)"
      ]
     },
     "execution_count": 64,
     "metadata": {},
     "output_type": "execute_result"
    }
   ],
   "source": [
    "loss = -prob[torch.arange(X.shape[0]),Y].log().mean()\n",
    "loss"
   ]
  },
  {
   "cell_type": "code",
   "execution_count": 65,
   "metadata": {},
   "outputs": [
    {
     "data": {
      "text/plain": [
       "tensor(18.0129)"
      ]
     },
     "execution_count": 65,
     "metadata": {},
     "output_type": "execute_result"
    }
   ],
   "source": [
    "# we can also use F.cross_entropy from torch, this has several benefits over doing our own implementation(commented code below)\n",
    "#counts = logits.exp()\n",
    "#prob = counts/counts.sum(1,keepdim=True)\n",
    "#loss = -prob[torch.arange(32),Y[0:32]].log().mean()\n",
    "\n",
    "# reasons to use F.cross_entropy :\n",
    "# we dont have to do all calculations/steps sequentially, steps when combined may simplify due to simplified math expressions\n",
    "# it runs in a fused kernels which is optimal\n",
    "# because of this the forward and the backward pass can be much more efficient\n",
    "# can be more numerically well behaved, handling exp values that can become inf->nan because of large inputs\n",
    "\n",
    "F.cross_entropy(logits,Y)"
   ]
  },
  {
   "cell_type": "code",
   "execution_count": 67,
   "metadata": {},
   "outputs": [
    {
     "name": "stdout",
     "output_type": "stream",
     "text": [
      "tensor([3.7835e-44, 4.9787e-02, 1.0000e+00,        inf])\n"
     ]
    },
    {
     "data": {
      "text/plain": [
       "tensor([0., 0., 0., nan])"
      ]
     },
     "execution_count": 67,
     "metadata": {},
     "output_type": "execute_result"
    }
   ],
   "source": [
    "# example of \n",
    "# can be more numerically well behaved, handling exp values that can become inf->nan because of large inputs\n",
    "# this happens because exp(large number) can run out of range of our floating point numbers, -ve nums are fine but +ve may cause issues\n",
    "logits = torch.tensor([-100,-3,0,100])\n",
    "counts = logits.exp()\n",
    "print(counts)\n",
    "probs = counts/counts.sum()\n",
    "probs"
   ]
  },
  {
   "cell_type": "code",
   "execution_count": 74,
   "metadata": {},
   "outputs": [
    {
     "name": "stdout",
     "output_type": "stream",
     "text": [
      "tensor([1.3534e-01, 1.0000e+00, 2.0086e+01, 2.9810e+03])\n"
     ]
    },
    {
     "data": {
      "text/plain": [
       "tensor([4.5079e-05, 3.3309e-04, 6.6903e-03, 9.9293e-01])"
      ]
     },
     "execution_count": 74,
     "metadata": {},
     "output_type": "execute_result"
    }
   ],
   "source": [
    "# how pytorch internally handles this\n",
    "# note here we calculate the max value in the tensor and offset the logits by that value\n",
    "# we can do this because offsetting by any arbitrary constant value wont change the probs\n",
    "offset = max(logits)\n",
    "logits = torch.tensor([-5,-3,0,5]) - offset\n",
    "counts = logits.exp()\n",
    "print(counts)\n",
    "probs = counts/counts.sum()\n",
    "probs"
   ]
  },
  {
   "cell_type": "markdown",
   "metadata": {},
   "source": [
    "## putting things together"
   ]
  },
  {
   "cell_type": "code",
   "execution_count": 96,
   "metadata": {},
   "outputs": [
    {
     "data": {
      "text/plain": [
       "3481"
      ]
     },
     "execution_count": 96,
     "metadata": {},
     "output_type": "execute_result"
    }
   ],
   "source": [
    "embedding_dim = 2\n",
    "n_neurons = 100 # hyperparameter\n",
    "num_inputs = block_size * embedding_dim # 3 words with 2 dims each\n",
    "num_outputs = 27 # for each char, total we have 27 neurons\n",
    "lr = 0.1 # learning rate\n",
    "n_epochs =10\n",
    "\n",
    "g = torch.Generator().manual_seed(2147483647) # for reproducibility\n",
    "C = torch.randn((27,embedding_dim)) # for each character(total 27 unique possible chars) we have a 2D embedding\n",
    "\n",
    "W1 = torch.randn((num_inputs,n_neurons), generator=g)\n",
    "b1 = torch.randn(n_neurons, generator=g)\n",
    "\n",
    "\n",
    "# inputs will be the output of prev layer\n",
    "W2 = torch.randn((n_neurons,num_outputs ), generator=g)\n",
    "b2 = torch.randn(num_outputs, generator=g)\n",
    "parameters = [C, W1, b1, W2, b2]\n",
    "\n",
    "sum(p.nelement() for p in parameters) # number of parameters in total\n"
   ]
  },
  {
   "cell_type": "code",
   "execution_count": 97,
   "metadata": {},
   "outputs": [],
   "source": [
    "for p in parameters:\n",
    "    p.requires_grad=True"
   ]
  },
  {
   "cell_type": "code",
   "execution_count": 98,
   "metadata": {},
   "outputs": [
    {
     "name": "stdout",
     "output_type": "stream",
     "text": [
      "loss after epoch0: 17.38619041442871\n",
      "loss after epoch1: 14.056153297424316\n",
      "loss after epoch2: 12.852312088012695\n",
      "loss after epoch3: 12.052742958068848\n",
      "loss after epoch4: 11.379619598388672\n",
      "loss after epoch5: 10.802681922912598\n",
      "loss after epoch6: 10.27330207824707\n",
      "loss after epoch7: 9.785455703735352\n",
      "loss after epoch8: 9.341601371765137\n",
      "loss after epoch9: 8.944975852966309\n"
     ]
    }
   ],
   "source": [
    "\n",
    "for _ in range(n_epochs):\n",
    "    # forward pass\n",
    "    emb = C[X]\n",
    "    h = torch.tanh(emb.view(-1,num_inputs) @ W1 +b1)\n",
    "    logits = h @ W2 +b2\n",
    "    loss = F.cross_entropy(logits,Y)\n",
    "    print(f\"loss after epoch{_}: {loss.item()}\")\n",
    "\n",
    "    # backward pass\n",
    "    for p in parameters:\n",
    "        p.grad = None\n",
    "\n",
    "    loss.backward()\n",
    "\n",
    "    # update the parameters\n",
    "    for p in parameters:\n",
    "        p.data +=  -lr * p.grad\n",
    "    \n",
    "    \n"
   ]
  },
  {
   "cell_type": "code",
   "execution_count": 100,
   "metadata": {},
   "outputs": [
    {
     "data": {
      "text/plain": [
       "tensor([ 25099,  22668, 169302, 143047,  51624,   1792,    966,  15437,  37418,\n",
       "        167721, 153993,  72952, 209305,  15921, 195498,  46490,  95236, 128437,\n",
       "        153693,  49236, 218002, 143686, 197615,  30719, 162337,  63733,   3394,\n",
       "         52600,  16140, 184642,  47220, 125941])"
      ]
     },
     "execution_count": 100,
     "metadata": {},
     "output_type": "execute_result"
    }
   ],
   "source": [
    "# notice that it take quite a bit of time for every single iteration(epoch)\n",
    "# this is because we are using all the training examples together\n",
    "\n",
    "# in practice for forward,backward and update\n",
    "# we use records in form of randomly selected mini batches\n",
    "\n",
    "mini_batch_size= 32 \n",
    "torch.randint(0,X.shape[0], (mini_batch_size,))"
   ]
  },
  {
   "cell_type": "markdown",
   "metadata": {},
   "source": [
    "# using minibatch"
   ]
  },
  {
   "cell_type": "code",
   "execution_count": 125,
   "metadata": {},
   "outputs": [],
   "source": [
    "embedding_dim = 2\n",
    "n_neurons = 100 # hyperparameter\n",
    "num_inputs = block_size * embedding_dim # 3 words with 2 dims each\n",
    "num_outputs = 27 # for each char, total we have 27 neurons\n",
    "lr = 0.1 # learning rate\n",
    "n_epochs =1000 # using more iterations as we have mini batches and they are fast\n",
    "mini_batch_size= 32 \n",
    "\n",
    "g = torch.Generator().manual_seed(2147483647) # for reproducibility\n",
    "C = torch.randn((27,embedding_dim)) # for each character(total 27 unique possible chars) we have a 2D embedding\n",
    "\n",
    "W1 = torch.randn((num_inputs,n_neurons), generator=g)\n",
    "b1 = torch.randn(n_neurons, generator=g)\n",
    "\n",
    "\n",
    "# inputs will be the output of prev layer\n",
    "W2 = torch.randn((n_neurons,num_outputs ), generator=g)\n",
    "b2 = torch.randn(num_outputs, generator=g)\n",
    "parameters = [C, W1, b1, W2, b2]\n",
    "\n",
    "sum(p.nelement() for p in parameters) # number of parameters in total\n",
    "\n",
    "for p in parameters:\n",
    "    p.requires_grad=True"
   ]
  },
  {
   "cell_type": "code",
   "execution_count": 114,
   "metadata": {},
   "outputs": [
    {
     "name": "stdout",
     "output_type": "stream",
     "text": [
      "loss 'for mini batch' after epoch 0: 19.564191818237305\n",
      "loss 'for mini batch' after epoch 100: 3.0173513889312744\n",
      "loss 'for mini batch' after epoch 200: 3.153050661087036\n",
      "loss 'for mini batch' after epoch 300: 3.2578980922698975\n",
      "loss 'for mini batch' after epoch 400: 3.0900368690490723\n",
      "loss 'for mini batch' after epoch 500: 3.249661445617676\n",
      "loss 'for mini batch' after epoch 600: 2.531350612640381\n",
      "loss 'for mini batch' after epoch 700: 2.511445999145508\n",
      "loss 'for mini batch' after epoch 800: 2.7576327323913574\n",
      "loss 'for mini batch' after epoch 900: 2.6781437397003174\n"
     ]
    }
   ],
   "source": [
    "for _ in range(n_epochs):\n",
    "    #minibatch construct\n",
    "    ix =torch.randint(0,X.shape[0],(mini_batch_size,))\n",
    "    # forward pass using minibatched examples\n",
    "    emb = C[X[ix]]\n",
    "    h = torch.tanh(emb.view(-1,num_inputs) @ W1 +b1)\n",
    "    logits = h @ W2 +b2\n",
    "\n",
    "    # loss for minibatched examples\n",
    "    loss = F.cross_entropy(logits,Y[ix]) \n",
    "    if  _ %100 == 0:\n",
    "        print(f\"loss 'for mini batch' after epoch {_}: {loss.item()}\")\n",
    "        \n",
    "\n",
    "    # backward pass\n",
    "    for p in parameters:\n",
    "        p.grad = None\n",
    "\n",
    "    loss.backward()\n",
    "\n",
    "    # update the parameters\n",
    "    for p in parameters:\n",
    "        p.data +=  -lr * p.grad\n",
    "    \n",
    "\n",
    "# this worked much faster\n",
    "# but we didn't use the all records, only at max n_epochs x  mini_batch_size\n",
    "\n",
    "# because of this we don't have the best gradients (since not all data is used)- we are using approximate gradients\n",
    "# but even these approximate gradients are also good enough\n",
    "# because now since its faster, we can increase the number of steps by large amount\n",
    "# and its better to have approximate gradients but use more steps for optimization\n",
    "# than to have good gradients but use very less steps for optimization"
   ]
  },
  {
   "cell_type": "code",
   "execution_count": 115,
   "metadata": {},
   "outputs": [
    {
     "data": {
      "text/plain": [
       "tensor(2.6237, grad_fn=<NllLossBackward0>)"
      ]
     },
     "execution_count": 115,
     "metadata": {},
     "output_type": "execute_result"
    }
   ],
   "source": [
    "# loss on whole data\n",
    "emb = C[X]\n",
    "h = torch.tanh(emb.view(-1,num_inputs) @ W1 +b1)\n",
    "logits = h @ W2 +b2\n",
    "loss = F.cross_entropy(logits,Y) \n",
    "loss"
   ]
  },
  {
   "cell_type": "markdown",
   "metadata": {},
   "source": [
    "## Finding a good initial learning rate to use"
   ]
  },
  {
   "cell_type": "code",
   "execution_count": 126,
   "metadata": {},
   "outputs": [
    {
     "name": "stdout",
     "output_type": "stream",
     "text": [
      "1000 1000\n"
     ]
    },
    {
     "data": {
      "text/plain": [
       "tensor([0.0010, 0.0010, 0.0010, 0.0010, 0.0010, 0.0010, 0.0010, 0.0010, 0.0011,\n",
       "        0.0011])"
      ]
     },
     "execution_count": 126,
     "metadata": {},
     "output_type": "execute_result"
    }
   ],
   "source": [
    "# candidate learning rates\n",
    "lre = torch.linspace(-3, 0, 1000) # -3, 0 can be guessed by running some radom values and seeing whether the learning rate is extreme(not learning anything on super low, unstable loss of super high)\n",
    "lrs = 10**lre # we are spaced exponentially between 10^-3 and 1\n",
    "print(len(lre), len(lrs))\n",
    "lrs[0:10] # we are creating some values between 10^-3 and 1"
   ]
  },
  {
   "cell_type": "code",
   "execution_count": 127,
   "metadata": {},
   "outputs": [],
   "source": [
    "# then we track the loss for each candidate learning rate\n",
    "lri = []\n",
    "lossi = []\n",
    "#stepi = []"
   ]
  },
  {
   "cell_type": "code",
   "execution_count": 128,
   "metadata": {},
   "outputs": [],
   "source": [
    "# we run for some relatively small number of steps\n",
    "for i in range(1000):\n",
    "  \n",
    "  # minibatch construct\n",
    "  ix =torch.randint(0,X.shape[0],(mini_batch_size,))\n",
    "  \n",
    "  # forward pass\n",
    "  emb = C[X[ix]] # (32, 3, 10)\n",
    "  h = torch.tanh(emb.view(-1, num_inputs) @ W1 + b1) \n",
    "  logits = h @ W2 + b2 # (32, 27)\n",
    "  loss = F.cross_entropy(logits, Y[ix])\n",
    "  #print(loss.item())\n",
    "  \n",
    "  # backward pass\n",
    "  for p in parameters:\n",
    "    p.grad = None\n",
    "  loss.backward()\n",
    "  \n",
    "  # update\n",
    "  lr = lrs[i]\n",
    "  #lr = 0.1 if i < 100000 else 0.01 # this is for decaying learning rate\n",
    "  for p in parameters:\n",
    "    p.data += -lr * p.grad\n",
    "\n",
    "  # track stats\n",
    "  lri.append(lre[i]) # logging the exponent of lr\n",
    "  #stepi.append(i)\n",
    "  lossi.append(loss.log10().item())\n",
    "\n",
    "#print(loss.item())"
   ]
  },
  {
   "cell_type": "code",
   "execution_count": 129,
   "metadata": {},
   "outputs": [
    {
     "data": {
      "text/plain": [
       "[<matplotlib.lines.Line2D at 0x17f70ac90>]"
      ]
     },
     "execution_count": 129,
     "metadata": {},
     "output_type": "execute_result"
    },
    {
     "data": {
      "image/png": "[encoded data removed]",
      "text/plain": [
       "<Figure size 640x480 with 1 Axes>"
      ]
     },
     "metadata": {},
     "output_type": "display_data"
    }
   ],
   "source": [
    "plt.plot(lri, lossi)\n"
   ]
  },
  {
   "cell_type": "code",
   "execution_count": null,
   "metadata": {},
   "outputs": [],
   "source": [
    "# Notes- \n",
    "# 1. we want to use the learning rate somewhere in the valley of the above graph\n",
    "\n",
    "#2. as the parameters or model increases, the model is more likely to overfit as it increases the learning capacity of the network (on training data)\n",
    "# increasing more and more will mean the model is just memorizing our training data\n",
    "# but when we try to sample from the model, we will only get examples as present in the training set (loss on external data will be high)\n",
    "\n",
    "# in practice we use 3 splits-> training,dev/validation split , and test split\n",
    "# typically divided like 80%,10%,10% for each of these\n",
    "\n",
    "#1. training -> used to train the model parameters\n",
    "#2. dev/val --> used to train the hyperparameters\n",
    "#3. test -> used to evaluate the performace of the model at the end\n",
    "\n",
    "# we are only evaluating loss on the test set very sparingly and very few times coz we risk the model learning on that if we do"
   ]
  },
  {
   "cell_type": "markdown",
   "metadata": {},
   "source": [
    "### using train/validataion/test splits"
   ]
  },
  {
   "cell_type": "code",
   "execution_count": 5,
   "metadata": {},
   "outputs": [
    {
     "name": "stdout",
     "output_type": "stream",
     "text": [
      "torch.Size([182625, 3]) torch.Size([182625])\n",
      "torch.Size([22655, 3]) torch.Size([22655])\n",
      "torch.Size([22866, 3]) torch.Size([22866])\n"
     ]
    }
   ],
   "source": [
    "# build the dataset\n",
    "block_size = 3 # context length: how many characters do we take to predict the next one?\n",
    "\n",
    "def build_dataset(words):  \n",
    "  X, Y = [], []\n",
    "  for w in words:\n",
    "\n",
    "    #print(w)\n",
    "    context = [0] * block_size\n",
    "    for ch in w + '.':\n",
    "      ix = stoi[ch]\n",
    "      X.append(context)\n",
    "      Y.append(ix)\n",
    "      #print(''.join(itos[i] for i in context), '--->', itos[ix])\n",
    "      context = context[1:] + [ix] # crop and append\n",
    "\n",
    "  X = torch.tensor(X)\n",
    "  Y = torch.tensor(Y)\n",
    "  print(X.shape, Y.shape)\n",
    "  return X, Y\n",
    "\n",
    "import random\n",
    "random.seed(42)\n",
    "random.shuffle(words)\n",
    "n1 = int(0.8*len(words))\n",
    "n2 = int(0.9*len(words))\n",
    "\n",
    "Xtr, Ytr = build_dataset(words[:n1])\n",
    "Xdev, Ydev = build_dataset(words[n1:n2])\n",
    "Xte, Yte = build_dataset(words[n2:])"
   ]
  },
  {
   "cell_type": "code",
   "execution_count": 12,
   "metadata": {},
   "outputs": [],
   "source": [
    "embedding_dim = 2\n",
    "n_neurons = 100 # hyperparameter\n",
    "num_inputs = block_size * embedding_dim # 3 words with 2 dims each\n",
    "num_outputs = 27 # for each char, total we have 27 neurons\n",
    "mini_batch_size = 32\n",
    "lr = 0.1 # learning rate\n",
    "n_epochs =10\n",
    "\n",
    "g = torch.Generator().manual_seed(2147483647) # for reproducibility\n",
    "C = torch.randn((27,embedding_dim)) # for each character(total 27 unique possible chars) we have a 2D embedding\n",
    "\n",
    "W1 = torch.randn((num_inputs,n_neurons), generator=g)\n",
    "b1 = torch.randn(n_neurons, generator=g)\n",
    "\n",
    "\n",
    "# inputs will be the output of prev layer\n",
    "W2 = torch.randn((n_neurons,num_outputs ), generator=g)\n",
    "b2 = torch.randn(num_outputs, generator=g)\n",
    "parameters = [C, W1, b1, W2, b2]\n",
    "\n",
    "sum(p.nelement() for p in parameters) # number of parameters in total\n",
    "\n",
    "for p in parameters:\n",
    "    p.requires_grad=True"
   ]
  },
  {
   "cell_type": "code",
   "execution_count": 13,
   "metadata": {},
   "outputs": [
    {
     "name": "stdout",
     "output_type": "stream",
     "text": [
      "1000 1000\n"
     ]
    },
    {
     "data": {
      "text/plain": [
       "tensor([0.0010, 0.0010, 0.0010, 0.0010, 0.0010, 0.0010, 0.0010, 0.0010, 0.0011,\n",
       "        0.0011])"
      ]
     },
     "execution_count": 13,
     "metadata": {},
     "output_type": "execute_result"
    }
   ],
   "source": [
    "# candidate learning rates\n",
    "lre = torch.linspace(-3, 0, 1000) # -3, 0 can be guessed by running some radom values and seeing whether the learning rate is extreme(not learning anything on super low, unstable loss of super high)\n",
    "lrs = 10**lre # we are spaced exponentially between 10^-3 and 1\n",
    "print(len(lre), len(lrs))\n",
    "lrs[0:10] # we are creating some values between 10^-3 and 1"
   ]
  },
  {
   "cell_type": "code",
   "execution_count": 14,
   "metadata": {},
   "outputs": [],
   "source": [
    "# then we track the loss for each candidate learning rate\n",
    "lri = []\n",
    "lossi = []\n",
    "#stepi = []"
   ]
  },
  {
   "cell_type": "code",
   "execution_count": 22,
   "metadata": {},
   "outputs": [],
   "source": [
    "# we run for some relatively small number of steps\n",
    "for i in range(10000):\n",
    "  \n",
    "  # minibatch construct\n",
    "  ix =torch.randint(0,Xtr.shape[0],(mini_batch_size,))\n",
    "  \n",
    "  # forward pass\n",
    "  emb = C[Xtr[ix]] # (32, 3, 10)\n",
    "  h = torch.tanh(emb.view(-1, num_inputs) @ W1 + b1) \n",
    "  logits = h @ W2 + b2 # (32, 27)\n",
    "  loss = F.cross_entropy(logits, Ytr[ix])\n",
    "  #print(loss.item())\n",
    "  \n",
    "  # backward pass\n",
    "  for p in parameters:\n",
    "    p.grad = None\n",
    "  loss.backward()\n",
    "  \n",
    "  # update\n",
    "  #lr = lrs[i]\n",
    "  lr = 0.1 if i < 5000 else 0.01 # this is for decaying learning rate\n",
    "  for p in parameters:\n",
    "    p.data += -lr * p.grad\n",
    "\n",
    "  # track stats\n",
    "  #lri.append(lre[i]) # logging the exponent of lr\n",
    "  #stepi.append(i)\n",
    "  #lossi.append(loss.log10().item())\n",
    "\n",
    "#print(loss.item())"
   ]
  },
  {
   "cell_type": "code",
   "execution_count": 25,
   "metadata": {},
   "outputs": [
    {
     "data": {
      "text/plain": [
       "tensor(2.3714, grad_fn=<NllLossBackward0>)"
      ]
     },
     "execution_count": 25,
     "metadata": {},
     "output_type": "execute_result"
    }
   ],
   "source": [
    "# training loss\n",
    "emb = C[Xtr]\n",
    "h= torch.tanh(emb.view(-1,num_inputs) @W1 + b1)\n",
    "logits = h @ W2 + b2\n",
    "loss = F.cross_entropy(logits, Ytr)\n",
    "loss"
   ]
  },
  {
   "cell_type": "code",
   "execution_count": 26,
   "metadata": {},
   "outputs": [
    {
     "data": {
      "text/plain": [
       "tensor(2.3657, grad_fn=<NllLossBackward0>)"
      ]
     },
     "execution_count": 26,
     "metadata": {},
     "output_type": "execute_result"
    }
   ],
   "source": [
    "# validation loss\n",
    "emb = C[Xdev]\n",
    "h= torch.tanh(emb.view(-1,num_inputs) @W1 + b1)\n",
    "logits = h @ W2 + b2\n",
    "loss = F.cross_entropy(logits, Ydev)\n",
    "loss"
   ]
  },
  {
   "cell_type": "code",
   "execution_count": null,
   "metadata": {},
   "outputs": [],
   "source": [
    "# training and dev loss both are similar so we are not overfitting, \n",
    "# but this could mean either the model is good(generalizing well) or\n",
    "# we are undefitting right now as train and dev loss are fairly similar (usually train loss will be slightly higher in a good model as well)\n",
    "# actions we can take are: \n",
    "   # this means that our network is too small and we may want to add more parameters/layers\n",
    "   # we should have some idea about the expected values of loss for our task(this is difficult to know, can be found using bechmark datasets, literatire review etc\n",
    "#    so usually we can try a bigger model and see if the train and val loss decreases further (to a point it doesn't start overfitting ))\n",
    "\n"
   ]
  },
  {
   "cell_type": "markdown",
   "metadata": {},
   "source": [
    "## tackling underfitting - by using a bigger model"
   ]
  },
  {
   "cell_type": "code",
   "execution_count": 42,
   "metadata": {},
   "outputs": [
    {
     "name": "stdout",
     "output_type": "stream",
     "text": [
      "10281\n"
     ]
    }
   ],
   "source": [
    "embedding_dim = 2\n",
    "n_neurons = 300 # hyperparameter\n",
    "num_inputs = block_size * embedding_dim # 3 words with 2 dims each\n",
    "num_outputs = 27 # for each char, total we have 27 neurons\n",
    "mini_batch_size = 32\n",
    "lr = 0.1 # learning rate\n",
    "n_epochs =10\n",
    "\n",
    "g = torch.Generator().manual_seed(2147483647) # for reproducibility\n",
    "C = torch.randn((27,embedding_dim)) # for each character(total 27 unique possible chars) we have a 2D embedding\n",
    "\n",
    "W1 = torch.randn((num_inputs,n_neurons), generator=g)\n",
    "b1 = torch.randn(n_neurons, generator=g)\n",
    "\n",
    "\n",
    "# inputs will be the output of prev layer\n",
    "W2 = torch.randn((n_neurons,num_outputs ), generator=g)\n",
    "b2 = torch.randn(num_outputs, generator=g)\n",
    "parameters = [C, W1, b1, W2, b2]\n",
    "\n",
    "print(sum(p.nelement() for p in parameters)) # number of parameters in total\n",
    "\n",
    "for p in parameters:\n",
    "    p.requires_grad=True"
   ]
  },
  {
   "cell_type": "code",
   "execution_count": 43,
   "metadata": {},
   "outputs": [
    {
     "name": "stdout",
     "output_type": "stream",
     "text": [
      "1000 1000\n"
     ]
    },
    {
     "data": {
      "text/plain": [
       "tensor([0.0010, 0.0010, 0.0010, 0.0010, 0.0010, 0.0010, 0.0010, 0.0010, 0.0011,\n",
       "        0.0011])"
      ]
     },
     "execution_count": 43,
     "metadata": {},
     "output_type": "execute_result"
    }
   ],
   "source": [
    "# candidate learning rates\n",
    "lre = torch.linspace(-3, 0, 1000) # -3, 0 can be guessed by running some radom values and seeing whether the learning rate is extreme(not learning anything on super low, unstable loss of super high)\n",
    "lrs = 10**lre # we are spaced exponentially between 10^-3 and 1\n",
    "print(len(lre), len(lrs))\n",
    "lrs[0:10] # we are creating some values between 10^-3 and 1"
   ]
  },
  {
   "cell_type": "code",
   "execution_count": 44,
   "metadata": {},
   "outputs": [],
   "source": [
    "# then we track the loss for each candidate learning rate\n",
    "lri = []\n",
    "lossi = []\n",
    "stepi = []"
   ]
  },
  {
   "cell_type": "code",
   "execution_count": 53,
   "metadata": {},
   "outputs": [],
   "source": [
    "# we run for some relatively small number of steps\n",
    "for i in range(300000):\n",
    "  \n",
    "  # minibatch construct\n",
    "  ix =torch.randint(0,Xtr.shape[0],(mini_batch_size,))\n",
    "  \n",
    "  # forward pass\n",
    "  emb = C[Xtr[ix]] # (32, 3, 10)\n",
    "  h = torch.tanh(emb.view(-1, num_inputs) @ W1 + b1) \n",
    "  logits = h @ W2 + b2 # (32, 27)\n",
    "  loss = F.cross_entropy(logits, Ytr[ix])\n",
    "  #print(loss.item())\n",
    "  \n",
    "  # backward pass\n",
    "  for p in parameters:\n",
    "    p.grad = None\n",
    "  loss.backward()\n",
    "  \n",
    "  # update\n",
    "  #lr = lrs[i]\n",
    "  lr = 0.1 if i < 50000 else 0.0 # this is for decaying learning rate\n",
    "  #lr = 0.01\n",
    "  for p in parameters:\n",
    "    p.data += -lr * p.grad\n",
    "\n",
    "  # track stats\n",
    "  #lri.append(lre[i]) # logging the exponent of lr\n",
    "  stepi.append(i)\n",
    "  lossi.append(loss.log10().item())\n",
    "\n",
    "#print(loss.item())"
   ]
  },
  {
   "cell_type": "code",
   "execution_count": 46,
   "metadata": {},
   "outputs": [
    {
     "data": {
      "text/plain": [
       "[<matplotlib.lines.Line2D at 0x3076e4d50>]"
      ]
     },
     "execution_count": 46,
     "metadata": {},
     "output_type": "execute_result"
    },
    {
     "data": {
      "image/png": "[encoded data removed]",
      "text/plain": [
       "<Figure size 640x480 with 1 Axes>"
      ]
     },
     "metadata": {},
     "output_type": "display_data"
    }
   ],
   "source": [
    "plt.plot(stepi,lossi)"
   ]
  },
  {
   "cell_type": "code",
   "execution_count": null,
   "metadata": {},
   "outputs": [],
   "source": [
    "# the flickers in the above plot are caused because we are using mini batches, and the mini batches produce some noise because of which this happens\n",
    "# since we increased the model size, it might need more iterations for training \n",
    "# we may also want to increase the batch size a little bit so we can decrease some noise (instead of trashing too much, reach more swiftly towards the minima)\n",
    "# another problem could be that we are only using 2 D embeddings and thats cramming to many words into this 2d space, abd the NN is not able to use the space effectively causing a bottleneck in the performance\n",
    "# so we may want to increase the dimensions of the embeddings as well"
   ]
  },
  {
   "cell_type": "code",
   "execution_count": 54,
   "metadata": {},
   "outputs": [
    {
     "data": {
      "text/plain": [
       "tensor(2.1620, grad_fn=<NllLossBackward0>)"
      ]
     },
     "execution_count": 54,
     "metadata": {},
     "output_type": "execute_result"
    }
   ],
   "source": [
    "# training loss\n",
    "emb = C[Xtr]\n",
    "h= torch.tanh(emb.view(-1,num_inputs) @W1 + b1)\n",
    "logits = h @ W2 + b2\n",
    "loss = F.cross_entropy(logits, Ytr)\n",
    "loss"
   ]
  },
  {
   "cell_type": "code",
   "execution_count": 55,
   "metadata": {},
   "outputs": [
    {
     "data": {
      "text/plain": [
       "tensor(2.1862, grad_fn=<NllLossBackward0>)"
      ]
     },
     "execution_count": 55,
     "metadata": {},
     "output_type": "execute_result"
    }
   ],
   "source": [
    "# validation loss\n",
    "emb = C[Xdev]\n",
    "h= torch.tanh(emb.view(-1,num_inputs) @W1 + b1)\n",
    "logits = h @ W2 + b2\n",
    "loss = F.cross_entropy(logits, Ydev)\n",
    "loss"
   ]
  },
  {
   "cell_type": "markdown",
   "metadata": {},
   "source": [
    "### visualize the embedding space - if we increase more than 2d we won't be able to visualize them properly"
   ]
  },
  {
   "cell_type": "code",
   "execution_count": 56,
   "metadata": {},
   "outputs": [
    {
     "data": {
      "image/png": "[encoded data removed]",
      "text/plain": [
       "<Figure size 800x800 with 1 Axes>"
      ]
     },
     "metadata": {},
     "output_type": "display_data"
    }
   ],
   "source": [
    "plt.figure(figsize = (8,8))\n",
    "plt.scatter(C[:,0].data, C[:,1].data, s=200)\n",
    "for i in range(C.shape[0]):\n",
    "    plt.text(C[i,0].item(),C[i,1].item(), itos[i],ha='center',va='center',color='white')\n",
    "plt.grid('minor')"
   ]
  },
  {
   "cell_type": "markdown",
   "metadata": {},
   "source": [
    "## increasing the dimensions for embeddings "
   ]
  },
  {
   "cell_type": "code",
   "execution_count": 58,
   "metadata": {},
   "outputs": [
    {
     "name": "stdout",
     "output_type": "stream",
     "text": [
      "17697\n"
     ]
    }
   ],
   "source": [
    "embedding_dim = 10\n",
    "n_neurons = 300 # hyperparameter\n",
    "num_inputs = block_size * embedding_dim # 3 words with 2 dims each\n",
    "num_outputs = 27 # for each char, total we have 27 neurons\n",
    "mini_batch_size = 32\n",
    "lr = 0.1 # learning rate\n",
    "n_epochs =10\n",
    "\n",
    "g = torch.Generator().manual_seed(2147483647) # for reproducibility\n",
    "C = torch.randn((27,embedding_dim)) # for each character(total 27 unique possible chars) we have a 2D embedding\n",
    "\n",
    "W1 = torch.randn((num_inputs,n_neurons), generator=g)\n",
    "b1 = torch.randn(n_neurons, generator=g)\n",
    "\n",
    "\n",
    "# inputs will be the output of prev layer\n",
    "W2 = torch.randn((n_neurons,num_outputs ), generator=g)\n",
    "b2 = torch.randn(num_outputs, generator=g)\n",
    "parameters = [C, W1, b1, W2, b2]\n",
    "\n",
    "print(sum(p.nelement() for p in parameters)) # number of parameters in total\n",
    "\n",
    "for p in parameters:\n",
    "    p.requires_grad=True"
   ]
  },
  {
   "cell_type": "code",
   "execution_count": 59,
   "metadata": {},
   "outputs": [],
   "source": [
    "# then we track the loss for each candidate learning rate\n",
    "lri = []\n",
    "lossi = []\n",
    "stepi = []"
   ]
  },
  {
   "cell_type": "code",
   "execution_count": 64,
   "metadata": {},
   "outputs": [],
   "source": [
    "# we run for some relatively small number of steps\n",
    "for i in range(100000):\n",
    "  \n",
    "  # minibatch construct\n",
    "  ix =torch.randint(0,Xtr.shape[0],(mini_batch_size,))\n",
    "  \n",
    "  # forward pass\n",
    "  emb = C[Xtr[ix]] # (32, 3, 10)\n",
    "  h = torch.tanh(emb.view(-1, num_inputs) @ W1 + b1) \n",
    "  logits = h @ W2 + b2 # (32, 27)\n",
    "  loss = F.cross_entropy(logits, Ytr[ix])\n",
    "  #print(loss.item())\n",
    "  \n",
    "  # backward pass\n",
    "  for p in parameters:\n",
    "    p.grad = None\n",
    "  loss.backward()\n",
    "  \n",
    "  # update\n",
    "  #lr = lrs[i]\n",
    "  lr = 0.1 if i < 50000 else 0.01 # this is for decaying learning rate\n",
    "  #lr = 0.01\n",
    "  for p in parameters:\n",
    "    p.data += -lr * p.grad\n",
    "\n",
    "  # track stats\n",
    "  #lri.append(lre[i]) # logging the exponent of lr\n",
    "  stepi.append(i)\n",
    "  lossi.append(loss.log10().item())\n",
    "\n",
    "#print(loss.item())"
   ]
  },
  {
   "cell_type": "code",
   "execution_count": 65,
   "metadata": {},
   "outputs": [
    {
     "data": {
      "text/plain": [
       "[<matplotlib.lines.Line2D at 0x377bc7bd0>]"
      ]
     },
     "execution_count": 65,
     "metadata": {},
     "output_type": "execute_result"
    },
    {
     "data": {
      "image/png": "[encoded data removed]",
      "text/plain": [
       "<Figure size 640x480 with 1 Axes>"
      ]
     },
     "metadata": {},
     "output_type": "display_data"
    }
   ],
   "source": [
    "plt.plot(stepi,lossi)"
   ]
  },
  {
   "cell_type": "code",
   "execution_count": 66,
   "metadata": {},
   "outputs": [
    {
     "data": {
      "text/plain": [
       "tensor(2.1086, grad_fn=<NllLossBackward0>)"
      ]
     },
     "execution_count": 66,
     "metadata": {},
     "output_type": "execute_result"
    }
   ],
   "source": [
    "# training loss\n",
    "emb = C[Xtr]\n",
    "h= torch.tanh(emb.view(-1,num_inputs) @W1 + b1)\n",
    "logits = h @ W2 + b2\n",
    "loss = F.cross_entropy(logits, Ytr)\n",
    "loss"
   ]
  },
  {
   "cell_type": "code",
   "execution_count": 67,
   "metadata": {},
   "outputs": [
    {
     "data": {
      "text/plain": [
       "tensor(2.1561, grad_fn=<NllLossBackward0>)"
      ]
     },
     "execution_count": 67,
     "metadata": {},
     "output_type": "execute_result"
    }
   ],
   "source": [
    "# validation loss\n",
    "emb = C[Xdev]\n",
    "h= torch.tanh(emb.view(-1,num_inputs) @W1 + b1)\n",
    "logits = h @ W2 + b2\n",
    "loss = F.cross_entropy(logits, Ydev)\n",
    "loss"
   ]
  },
  {
   "cell_type": "markdown",
   "metadata": {},
   "source": [
    "### sampling from the model\n"
   ]
  },
  {
   "cell_type": "code",
   "execution_count": 77,
   "metadata": {},
   "outputs": [
    {
     "name": "stdout",
     "output_type": "stream",
     "text": [
      "ellanick.\n",
      "ciya.\n",
      "huleenid.\n",
      "blifry.\n",
      "maranzo.\n",
      "yudahillisli.\n",
      "didille.\n",
      "zayamir.\n",
      "pory.\n",
      "ruzela.\n",
      "dhewnadenna.\n",
      "joon.\n",
      "emmiddy.\n",
      "thyna.\n",
      "zachlyey.\n",
      "tilon.\n",
      "hhlanne.\n",
      "shawna.\n",
      "ayn.\n",
      "izeelo.\n"
     ]
    }
   ],
   "source": [
    "g = torch.Generator().manual_seed(42 + 10)\n",
    "for _ in range(20):\n",
    "    out =[]\n",
    "    context = [0]*block_size # initialize with all ...\n",
    "    while True:\n",
    "        es = C[torch.tensor([context])]\n",
    "        hs = torch.tanh(es.view(1,-1) @ W1 + b1)\n",
    "        logits = hs @ W2 + b2\n",
    "        probs = F.softmax(logits,dim=1)\n",
    "        ix = torch.multinomial(probs, num_samples=1,generator=g).item()\n",
    "        context = context[1:]+[ix]\n",
    "        out.append(ix)\n",
    "        if ix == 0:\n",
    "            break\n",
    "    print(''.join(itos[i] for i in out))"
   ]
  },
  {
   "cell_type": "code",
   "execution_count": null,
   "metadata": {},
   "outputs": [],
   "source": []
  }
 ],
 "metadata": {
  "kernelspec": {
   "display_name": "gpt-env",
   "language": "python",
   "name": "python3"
  },
  "language_info": {
   "codemirror_mode": {
    "name": "ipython",
    "version": 3
   },
   "file_extension": ".py",
   "mimetype": "text/x-python",
   "name": "python",
   "nbconvert_exporter": "python",
   "pygments_lexer": "ipython3",
   "version": "3.11.1"
  }
 },
 "nbformat": 4,
 "nbformat_minor": 2
}
