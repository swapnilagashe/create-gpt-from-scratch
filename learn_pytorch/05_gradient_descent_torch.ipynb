{
 "cells": [
  {
   "cell_type": "markdown",
   "metadata": {},
   "source": [
    "### Linear regression using numpy"
   ]
  },
  {
   "cell_type": "code",
   "execution_count": 1,
   "metadata": {},
   "outputs": [],
   "source": [
    "import torch\n",
    "import matplotlib.pyplot as plt\n"
   ]
  },
  {
   "cell_type": "code",
   "execution_count": 2,
   "metadata": {},
   "outputs": [],
   "source": [
    "# f = w*x , dont care about bias\n",
    "# let w =2\n",
    "# f = 2*x"
   ]
  },
  {
   "cell_type": "code",
   "execution_count": 38,
   "metadata": {},
   "outputs": [
    {
     "name": "stdout",
     "output_type": "stream",
     "text": [
      "tensor([1., 2., 3., 4.]) tensor([2., 4., 6., 8.]) tensor(0., requires_grad=True)\n"
     ]
    }
   ],
   "source": [
    "X = torch.tensor([1,2,3,4], dtype = torch.float32)\n",
    "Y = torch.tensor([2,4,6,8],dtype=torch.float32)\n",
    "w = torch.tensor(0.0,dtype = torch.float32, requires_grad=True)\n",
    "print(X,Y,w)"
   ]
  },
  {
   "cell_type": "code",
   "execution_count": 39,
   "metadata": {},
   "outputs": [],
   "source": [
    "# model prediction\n",
    "def forward(x):\n",
    "    return w*x\n",
    "\n",
    "# loss - MSE\n",
    "def loss(y,y_predicted):\n",
    "    return ((y_predicted -y)**2).mean()\n",
    "\n",
    "# gradient\n",
    "# MSE = 1/N * (w*x -y)**2\n",
    "# dMSE/dw = 1/N * (2 *(w*x -y)) * (x)  = 1/N * 2x * (w*x -y)\n",
    "\n"
   ]
  },
  {
   "cell_type": "code",
   "execution_count": 40,
   "metadata": {},
   "outputs": [
    {
     "name": "stdout",
     "output_type": "stream",
     "text": [
      "pred before taining : f(5) = tensor([0., 0., 0., 0.], grad_fn=<MulBackward0>)\n"
     ]
    }
   ],
   "source": [
    "print(f'pred before taining : f(5) = {forward(X)}')"
   ]
  },
  {
   "cell_type": "code",
   "execution_count": 41,
   "metadata": {},
   "outputs": [
    {
     "name": "stdout",
     "output_type": "stream",
     "text": [
      "loss after epoch :0 = 30.0\n",
      "loss after epoch :5 = 5.9062323570251465\n",
      "loss after epoch :10 = 1.1627856492996216\n",
      "loss after epoch :15 = 0.22892260551452637\n",
      "loss after epoch :20 = 0.0450688973069191\n",
      "loss after epoch :25 = 0.008872910402715206\n",
      "loss after epoch :30 = 0.0017468547448515892\n",
      "loss after epoch :35 = 0.00034391897497698665\n",
      "loss after epoch :40 = 6.770494655938819e-05\n",
      "loss after epoch :45 = 1.3328777640708722e-05\n",
      "loss after epoch :50 = 2.6243997126584873e-06\n",
      "loss after epoch :55 = 5.168862458049261e-07\n",
      "loss after epoch :60 = 1.0175587306093803e-07\n",
      "loss after epoch :65 = 2.0093764874218323e-08\n",
      "loss after epoch :70 = 3.9741685498029256e-09\n",
      "loss after epoch :75 = 7.718661265698756e-10\n",
      "loss after epoch :80 = 1.4670220593870908e-10\n",
      "loss after epoch :85 = 2.7284841053187847e-11\n",
      "loss after epoch :90 = 5.076827847005916e-12\n",
      "loss after epoch :95 = 8.988365607365267e-13\n"
     ]
    }
   ],
   "source": [
    "# training \n",
    "lr =  0.01  \n",
    "n_iters = 100\n",
    "\n",
    "loss_tracker= []\n",
    "for epoch in range(n_iters):\n",
    "    # forward pass  - prediction\n",
    "    y_pred = forward(X)\n",
    "    \n",
    "    #loss\n",
    "    l = loss(Y, y_pred)\n",
    "    loss_tracker.append(l)\n",
    "    if epoch % 5 ==0:\n",
    "        print(f'loss after epoch :{epoch} = {l}')\n",
    "    \n",
    "    # gradients \n",
    "    l.backward() #dl/dw\n",
    "    # update the weights\n",
    "    with torch.no_grad():\n",
    "        w -= lr * w.grad\n",
    "    \n",
    "    # zero gradients\n",
    "    w.grad.zero_()\n",
    "    "
   ]
  },
  {
   "cell_type": "code",
   "execution_count": 62,
   "metadata": {},
   "outputs": [
    {
     "data": {
      "image/png": "[encoded data removed]",
      "text/plain": [
       "<Figure size 640x480 with 1 Axes>"
      ]
     },
     "metadata": {},
     "output_type": "display_data"
    }
   ],
   "source": [
    "import torch\n",
    "\n",
    "scalar_values = [tensor.detach().item() for tensor in loss_tracker]\n",
    "\n",
    "# Plot the scalar values\n",
    "plt.plot(scalar_values, marker='o', linestyle='-', label='Loss')\n",
    "\n",
    "# Add labels and title\n",
    "plt.xlabel('Time Step')\n",
    "plt.ylabel('Loss')\n",
    "plt.title('Loss')\n",
    "plt.legend()\n",
    "\n",
    "# Display the plot\n",
    "plt.show()\n"
   ]
  },
  {
   "cell_type": "code",
   "execution_count": null,
   "metadata": {},
   "outputs": [],
   "source": []
  }
 ],
 "metadata": {
  "kernelspec": {
   "display_name": "gpt-env",
   "language": "python",
   "name": "python3"
  },
  "language_info": {
   "codemirror_mode": {
    "name": "ipython",
    "version": 3
   },
   "file_extension": ".py",
   "mimetype": "text/x-python",
   "name": "python",
   "nbconvert_exporter": "python",
   "pygments_lexer": "ipython3",
   "version": "3.11.1"
  }
 },
 "nbformat": 4,
 "nbformat_minor": 2
}
