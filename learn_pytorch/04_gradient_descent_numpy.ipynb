{
 "cells": [
  {
   "cell_type": "markdown",
   "metadata": {},
   "source": [
    "### Linear regression using numpy"
   ]
  },
  {
   "cell_type": "code",
   "execution_count": 2,
   "metadata": {},
   "outputs": [],
   "source": [
    "import numpy as np"
   ]
  },
  {
   "cell_type": "code",
   "execution_count": 1,
   "metadata": {},
   "outputs": [],
   "source": [
    "# f = w*x , dont care about bias\n",
    "# let w =2\n",
    "# f = 2*x\n"
   ]
  },
  {
   "cell_type": "code",
   "execution_count": 6,
   "metadata": {},
   "outputs": [
    {
     "name": "stdout",
     "output_type": "stream",
     "text": [
      "[1. 2. 3. 4.] [2. 4. 6. 8.] 0.0\n"
     ]
    }
   ],
   "source": [
    "X = np.array([1,2,3,4], dtype = np.float32)\n",
    "Y = np.array([2,4,6,8],dtype=np.float32)\n",
    "w = 0.0\n",
    "print(X,Y,w)"
   ]
  },
  {
   "cell_type": "code",
   "execution_count": 7,
   "metadata": {},
   "outputs": [],
   "source": [
    "# model prediction\n",
    "def forward(x):\n",
    "    return w*x\n",
    "\n",
    "# loss - MSE\n",
    "def loss(y,y_predicted):\n",
    "    return ((y_predicted -y)**2).mean()\n",
    "\n",
    "# gradient\n",
    "# MSE = 1/N * (w*x -y)**2\n",
    "# dMSE/dw = 1/N * (2 *(w*x -y)) * (x)  = 1/N * 2x * (w*x -y)\n",
    "\n",
    "def gradient(x,y,y_predicted):\n",
    "    return np.dot(2*x , y_predicted-y).mean()\n"
   ]
  },
  {
   "cell_type": "code",
   "execution_count": 8,
   "metadata": {},
   "outputs": [
    {
     "name": "stdout",
     "output_type": "stream",
     "text": [
      "pred before taining : f(5) = [0. 0. 0. 0.]\n"
     ]
    }
   ],
   "source": [
    "print(f'pred before taining : f(5) = {forward(x)}')"
   ]
  },
  {
   "cell_type": "code",
   "execution_count": 18,
   "metadata": {},
   "outputs": [
    {
     "name": "stdout",
     "output_type": "stream",
     "text": [
      "loss after epoch :0 = 7.5\n",
      "loss after epoch :1 = 1.1999998092651367\n",
      "loss after epoch :2 = 0.19199994206428528\n",
      "loss after epoch :3 = 0.030719999223947525\n",
      "loss after epoch :4 = 0.004915233701467514\n",
      "loss after epoch :5 = 0.0007864237995818257\n",
      "loss after epoch :6 = 0.000125831036712043\n",
      "loss after epoch :7 = 2.0132965801167302e-05\n",
      "loss after epoch :8 = 3.220688540750416e-06\n",
      "loss after epoch :9 = 5.153382858225086e-07\n"
     ]
    }
   ],
   "source": [
    "# training \n",
    "lr =  0.01\n",
    "n_iters = 10 \n",
    "#w = 0.0\n",
    "w = 1.0\n",
    "\n",
    "for epoch in range(n_iters):\n",
    "    # forward pass  - prediction\n",
    "    y_pred = forward(X)\n",
    "    \n",
    "    #loss\n",
    "    l = loss(Y, y_pred)\n",
    "    print(f'loss after epoch :{epoch} = {l}')\n",
    "    # gradients \n",
    "    dw = gradient(X,Y,y_pred)\n",
    "    \n",
    "    # update the weights\n",
    "    w = w -  (lr * dw)\n",
    "    #print(w)\n",
    "    "
   ]
  },
  {
   "cell_type": "code",
   "execution_count": 19,
   "metadata": {},
   "outputs": [
    {
     "data": {
      "text/plain": [
       "array([1.9997379, 3.9994757, 5.9992137, 7.9989514], dtype=float32)"
      ]
     },
     "execution_count": 19,
     "metadata": {},
     "output_type": "execute_result"
    }
   ],
   "source": [
    "y_pred"
   ]
  },
  {
   "cell_type": "code",
   "execution_count": 20,
   "metadata": {},
   "outputs": [
    {
     "data": {
      "text/plain": [
       "array([2., 4., 6., 8.], dtype=float32)"
      ]
     },
     "execution_count": 20,
     "metadata": {},
     "output_type": "execute_result"
    }
   ],
   "source": [
    "y"
   ]
  },
  {
   "cell_type": "code",
   "execution_count": 21,
   "metadata": {},
   "outputs": [
    {
     "data": {
      "text/plain": [
       "5.153383e-07"
      ]
     },
     "execution_count": 21,
     "metadata": {},
     "output_type": "execute_result"
    }
   ],
   "source": [
    "l"
   ]
  },
  {
   "cell_type": "code",
   "execution_count": 22,
   "metadata": {},
   "outputs": [
    {
     "data": {
      "text/plain": [
       "199.98951125144958"
      ]
     },
     "execution_count": 22,
     "metadata": {},
     "output_type": "execute_result"
    }
   ],
   "source": [
    "forward(100)"
   ]
  },
  {
   "cell_type": "code",
   "execution_count": null,
   "metadata": {},
   "outputs": [],
   "source": []
  }
 ],
 "metadata": {
  "kernelspec": {
   "display_name": "gpt-env",
   "language": "python",
   "name": "python3"
  },
  "language_info": {
   "codemirror_mode": {
    "name": "ipython",
    "version": 3
   },
   "file_extension": ".py",
   "mimetype": "text/x-python",
   "name": "python",
   "nbconvert_exporter": "python",
   "pygments_lexer": "ipython3",
   "version": "3.11.1"
  }
 },
 "nbformat": 4,
 "nbformat_minor": 2
}
