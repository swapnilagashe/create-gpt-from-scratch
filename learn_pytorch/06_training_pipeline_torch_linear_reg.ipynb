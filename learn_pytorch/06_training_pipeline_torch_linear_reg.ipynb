{
 "cells": [
  {
   "cell_type": "markdown",
   "metadata": {},
   "source": [
    "### Linear regression using numpy"
   ]
  },
  {
   "cell_type": "code",
   "execution_count": 1,
   "metadata": {},
   "outputs": [],
   "source": [
    "import torch\n",
    "import torch.nn as nn\n",
    "import matplotlib.pyplot as plt\n"
   ]
  },
  {
   "cell_type": "code",
   "execution_count": null,
   "metadata": {},
   "outputs": [],
   "source": [
    "# 1. Design model (input, output size , forward pass)\n",
    "# 2. Construct loss and optimizer\n",
    "# 3. Training loop\n",
    "#    - foward pass : compute predictions and loss\n",
    "#    - backward pass : gradient\n",
    "#    - update weights"
   ]
  },
  {
   "cell_type": "code",
   "execution_count": 2,
   "metadata": {},
   "outputs": [],
   "source": [
    "# f = w*x , dont care about bias\n",
    "# let w =2\n",
    "# f = 2*x"
   ]
  },
  {
   "cell_type": "code",
   "execution_count": 12,
   "metadata": {},
   "outputs": [
    {
     "name": "stdout",
     "output_type": "stream",
     "text": [
      "4 1\n"
     ]
    }
   ],
   "source": [
    "X = torch.tensor([[1],[2],[3],[4]], dtype = torch.float32)\n",
    "Y = torch.tensor([[2],[4],[6],[8]],dtype=torch.float32)\n",
    "n_samples, n_features = X.shape\n",
    "print(n_samples, n_features)"
   ]
  },
  {
   "cell_type": "code",
   "execution_count": 13,
   "metadata": {},
   "outputs": [],
   "source": [
    "# model prediction\n",
    "input_size = n_features\n",
    "output_size = n_features\n",
    "\n",
    "model  = nn.Linear(input_size,output_size)\n",
    "\n",
    "# training \n",
    "lr =  0.01  \n",
    "n_iters = 100\n",
    "\n",
    "# loss - MSE\n",
    "loss = nn.MSELoss()\n",
    "optimizer  =torch.optim.SGD(model.parameters(), lr =lr )\n",
    " \n",
    "# gradient\n",
    "# MSE = 1/N * (w*x -y)**2\n",
    "# dMSE/dw = 1/N * (2 *(w*x -y)) * (x)  = 1/N * 2x * (w*x -y)\n"
   ]
  },
  {
   "cell_type": "code",
   "execution_count": null,
   "metadata": {},
   "outputs": [],
   "source": [
    "# if we want to define a custom model ,we need to derive from nn.Module\n",
    "\n",
    "class LinearRegression(nn.Module):\n",
    "    def __init__(self,input_size, output_size):\n",
    "        super(LinearRegression, self).__init__()\n",
    "        self.lin = nn.Linear(input_size, output_size)\n",
    "        \n",
    "    def forward(self,x):\n",
    "        return self.lin(x)"
   ]
  },
  {
   "cell_type": "code",
   "execution_count": 14,
   "metadata": {},
   "outputs": [
    {
     "name": "stdout",
     "output_type": "stream",
     "text": [
      "loss after epoch :0 = 7.8561601638793945\n",
      "loss after epoch :5 = 1.289046287536621\n",
      "loss after epoch :10 = 0.23198267817497253\n",
      "loss after epoch :15 = 0.06122695282101631\n",
      "loss after epoch :20 = 0.033054858446121216\n",
      "loss after epoch :25 = 0.02783781662583351\n",
      "loss after epoch :30 = 0.026333454996347427\n",
      "loss after epoch :35 = 0.0254458487033844\n",
      "loss after epoch :40 = 0.02467656135559082\n",
      "loss after epoch :45 = 0.023944782093167305\n",
      "loss after epoch :50 = 0.023237032815814018\n",
      "loss after epoch :55 = 0.022550558671355247\n",
      "loss after epoch :60 = 0.021884452551603317\n",
      "loss after epoch :65 = 0.02123800292611122\n",
      "loss after epoch :70 = 0.02061064913868904\n",
      "loss after epoch :75 = 0.02000185288488865\n",
      "loss after epoch :80 = 0.01941101625561714\n",
      "loss after epoch :85 = 0.01883760839700699\n",
      "loss after epoch :90 = 0.018281178548932076\n",
      "loss after epoch :95 = 0.017741171643137932\n"
     ]
    }
   ],
   "source": [
    "loss_tracker= []\n",
    "for epoch in range(n_iters):\n",
    "    # forward pass  - prediction\n",
    "    y_pred = model(X)\n",
    "    \n",
    "    #loss\n",
    "    l = loss(Y, y_pred)\n",
    "    loss_tracker.append(l)\n",
    "    if epoch % 5 ==0:\n",
    "        print(f'loss after epoch :{epoch} = {l}')\n",
    "    \n",
    "    # gradients \n",
    "    l.backward() #dl/dw\n",
    "    # update the weights\n",
    "    optimizer.step()\n",
    "    # zero gradients\n",
    "    optimizer.zero_grad()\n"
   ]
  },
  {
   "cell_type": "code",
   "execution_count": 15,
   "metadata": {},
   "outputs": [
    {
     "data": {
      "image/png": "[encoded data removed]",
      "text/plain": [
       "<Figure size 640x480 with 1 Axes>"
      ]
     },
     "metadata": {},
     "output_type": "display_data"
    }
   ],
   "source": [
    "import torch\n",
    "\n",
    "scalar_values = [tensor.detach().item() for tensor in loss_tracker]\n",
    "\n",
    "# Plot the scalar values\n",
    "plt.plot(scalar_values, marker='o', linestyle='-', label='Loss')\n",
    "\n",
    "# Add labels and title\n",
    "plt.xlabel('Time Step')\n",
    "plt.ylabel('Loss')\n",
    "plt.title('Loss')\n",
    "plt.legend()\n",
    "\n",
    "# Display the plot\n",
    "plt.show()\n"
   ]
  },
  {
   "cell_type": "code",
   "execution_count": 20,
   "metadata": {},
   "outputs": [],
   "source": [
    "[w,b] = model.parameters()"
   ]
  },
  {
   "cell_type": "code",
   "execution_count": null,
   "metadata": {},
   "outputs": [],
   "source": []
  }
 ],
 "metadata": {
  "kernelspec": {
   "display_name": "gpt-env",
   "language": "python",
   "name": "python3"
  },
  "language_info": {
   "codemirror_mode": {
    "name": "ipython",
    "version": 3
   },
   "file_extension": ".py",
   "mimetype": "text/x-python",
   "name": "python",
   "nbconvert_exporter": "python",
   "pygments_lexer": "ipython3",
   "version": "3.11.1"
  }
 },
 "nbformat": 4,
 "nbformat_minor": 2
}
